{
 "cells": [
  {
   "cell_type": "markdown",
   "id": "05446d62",
   "metadata": {},
   "source": [
    "### GPT API로 50개씩.csv 데이터 돌리기"
   ]
  },
  {
   "cell_type": "code",
   "execution_count": 1,
   "id": "3ff45b80",
   "metadata": {},
   "outputs": [
    {
     "data": {
      "text/plain": [
       "False"
      ]
     },
     "execution_count": 1,
     "metadata": {},
     "output_type": "execute_result"
    }
   ],
   "source": [
    "import pandas as pd\n",
    "import re\n",
    "import json\n",
    "import time\n",
    "\n",
    "from langchain_openai import ChatOpenAI\n",
    "import openai\n",
    "from dotenv import load_dotenv\n",
    "import os\n",
    "\n",
    "load_dotenv()"
   ]
  },
  {
   "cell_type": "code",
   "execution_count": null,
   "id": "bd982a04",
   "metadata": {},
   "outputs": [],
   "source": [
    "df = pd.read_csv('../50개씩.csv')\n",
    "df"
   ]
  },
  {
   "cell_type": "code",
   "execution_count": null,
   "id": "46db9d1f",
   "metadata": {},
   "outputs": [],
   "source": [
    "llm = ChatOpenAI(\n",
    "    model_name=\"gpt-4o-mini\",\n",
    "    temperature=0,\n",
    "    max_tokens=1000,\n",
    "    openai_api_key=\"openai_api_key\"\n",
    ")"
   ]
  },
  {
   "cell_type": "code",
   "execution_count": null,
   "id": "dcd8236f",
   "metadata": {},
   "outputs": [],
   "source": [
    "example = \"\"\"\n",
    "review\n",
    "'''몇 번째 내 돈 내 산인지 모르겠어요 진짜 쟁여템입니다\n",
    "이렇게까지 내용물이 풍부한 밀 키트는 처음이에요 간도 딱 맞고 양도 푸짐하고 게다가 양이 진짜 많이 들어서 먹을 때마다 감동입니다.\n",
    "고기의 품질도 너무 좋아요 보통은 국에 흩어지는 고기들이 많은데 제대로 모양을 갖춘 고기가 한가득 들어 있어서 양 곰탕 집에 와서 먹는 기분이 들어요'''\n",
    "category_labels\n",
    "{\"진짜 쟁여템입니다\":'보관',\n",
    "\"내용물이 풍부한 밀 키트는 처음이에요\":'양',\n",
    "\"간도 딱 맞고\":'맛/향/풍미',\n",
    "\"양도 푸짐하고\":'양',\n",
    "\"양이 진짜 많이 들어서\":'양',\n",
    "\"고기의 품질도 너무 좋아요\":'맛/향/풍미',\n",
    "\"제대로 모양을 갖춘 고기가 한가득 들어 있어서\":'양',\n",
    "\"양 곰탕 집에 와서 먹는 기분이 들어요\":'맛/향/풍미'}\n",
    "\n",
    "\n",
    "review\n",
    "'''후기 좋아서 사 봤는데 고기가 듬뿍 들었고 팍팍하지 않고 부들부들해요 근데 양 곰탕인데 내장은 몇 개 없어서 아쉬워요\n",
    "그리고 냉동 제품이지만 제조 일이 오래된 거 아닌가요 재고 세일인 건가라는 생각도 드네요”'''\n",
    "category_labels\n",
    "{\"고기가 듬뿍 들었고\":'양',\n",
    "\"팍팍하지 않고 부들부들해요\":'맛/향/풍미',\n",
    "\"내장은 몇 개 없어서 아쉬워요\":'양',\n",
    "\"냉동 제품이지만 제조 일이 오래된 거 아닌가요\":'포장/배송',\n",
    "\"재고 세일인 건가라는 생각도 드네요\":'포장/배송'}\n",
    "\n",
    "\n",
    "review\n",
    "'''가끔 구매해요 가족 모두 만족 감사합니다 또 사러 올게요'''\n",
    "category_labels\n",
    "{}\n",
    "\n",
    "\n",
    "review\n",
    "'''야식으로 간편하게 먹기 좋아요\n",
    "만둣국 레시피 1 사골 육수를 냄비에 끓이기 2 만두 넣기 3 5분 정도 지나면 썰어 준 대파를 넣기 4 참기름 김 가루 넣어 주면 완성'''\n",
    "category_labels\n",
    "{\"야식으로 간편하게 먹기 좋아요\":'활용 방법',\n",
    "\"만둣국 레시피 1 사골 육수를 냄비에 끓이기 2 만두 넣기 3 5분 정도 지나면 썰어 준 대파를 넣기 4 참기름 김 가루 넣어 주면 완성\":'활용 방법'}\n",
    "\n",
    "review\n",
    "'''갈비탕 할인하면 한 두 개씩 사 둬요 냉동이라 더 좋고 대파나 팽이 마늘 넣어 먹으면 더 좋아요\n",
    "생각보다 실해요 아침에 바쁘고 간단히 차려 먹고 싶을 때 딱 좋네요 집에서 간편하게 해먹기 좋아요\n",
    "첨가물이 섞여 있지 않은 것도 좋아서 항상 비상식량으로 쟁여둡니다'''\n",
    "category_labels\n",
    "{\"갈비탕 할인하면 한 두 개씩 사 둬요\":'보관',\n",
    "\"냉동이라 더 좋고\":'보관',\n",
    "\"대파나 팽이 마늘 넣어 먹으면 더 좋아요\":'활용 방법'\n",
    "\"생각보다 실해요\":'양',\n",
    "\"아침에 바쁘고 간단히 차려 먹고 싶을 때 딱 좋네요\":'활용 방법',\n",
    "\"집에서 간편하게 해먹기 좋아요\":'활용 방법',\n",
    "\"첨가물이 섞여 있지 않은 것도 좋아서\":'맛/향/풍미',\n",
    "\"항상 비상식량으로 쟁여둡니다\":'보관'}\n",
    "\n",
    "\n",
    "review\n",
    "'''평소에 갈비탕을 좋아해서 컬리 쇼핑 중 새로 올라온 솔가 원 갈비탕 주문 포장부터 깔끔하더니 국물이 캬 아\n",
    "큰 대갈비가 4개나 고기도 두툼하고 집에 있는 대파 송송 깍두기에 한 그릇 뚝딱 너무 깔끔하니 맛나네요 4 팩 주문했는데 또 주문해서 쟁겨뒀네요 간편하게 몸 보신 좋네요\n",
    "가성비 좋습니다 아기도 너무 잘 먹고 어르신들 드시기에도 좋은 것 같아요 대박 나세요'''\n",
    "category_labels\n",
    "{\"포장부터 깔끔하더니\":'포장/배송',\n",
    "\"국물이 캬 아\":'맛/향/풍미',\n",
    "\"큰 대갈비가 4개나 고기도 두툼하고\":'양',\n",
    "\"너무 깔끔하니 맛나네요\":'맛/향/풍미',\n",
    "\"4 팩 주문했는데 또 주문해서 쟁겨뒀네요\":'보관',\n",
    "\"간편하게 몸 보신 좋네요\":'활용 방법',\n",
    "\"가성비 좋습니다\":'가격',\n",
    "\"아기도 너무 잘 먹고\":'활용 방법',\n",
    "\"어르신들 드시기에도 좋은 것 같아요\":'활용 방법'}\n",
    "\n",
    "\n",
    "review\n",
    "'''맛은 그럭저럭인데 포장지는 신경 쓰여야할 것 같습니다 컬리에서 많이 시키는데 해동 후 이렇게 뚫려 내용물이 세어 나온 적은 처음입니다 후기 찾아 보니 저처럼 뚫린 분이 계신 듯합니다'''\n",
    "category_labels\n",
    "{\"포장지는 신경 쓰여야할 것 같습니다\":'포장/배송',\n",
    "\"해동 후 이렇게 뚫려 내용물이 세어 나온 적은 처음입니다\":'포장/배송'}\n",
    "\n",
    "\n",
    "review\n",
    "'''내용물은 너무 부실해요 국물만 흥건하고 건더기는 별로 없는 \\n댓글 알바인가요\\n 내용물 거의 아무것도 없잖아요 차라리 청국장 사서 두부 넣고 직접 해드세요 가격 대비 내용물이 부실하다는 느낌'''\n",
    "category_labels\n",
    "{\"내용물은 너무 부실해요\":'양',\n",
    "\"국물만 흥건하고 건더기는 별로 없는\":'양',\n",
    "\"내용물 거의 아무것도 없잖아요\":'양',\n",
    "\"가격 대비 내용물이 부실하다는 느낌\":'가격'}\n",
    "\n",
    "\n",
    "review\n",
    "'''내용물 봉지에 이물질인지 벌레인지 묻어 있어서 불쾌합니다 두 개나 굵고 진한 머리카락인가요\n",
    "국물은 진해 보이지만 찜찜하고 먹기 꺼려져서 버렸어요 위생 상태 별로네요```\n",
    "category_labels\n",
    "{\"내용물 봉지에 이물질인지 벌레인지 묻어 있어서 불쾌합니다\":'포장/배송',\n",
    "\"두 개나 굵고 진한 머리카락인가요\":'포장/배송',\n",
    "\"찜찜하고 먹기 꺼려져서 버렸어요 위생 상태 별로네요\":'포장/배송'}\n",
    "\n",
    "\n",
    "review\n",
    "'''남편 두고 여행을 떠나서 밀키트로 냉장 냉동고에 쌓아 두었어요 넉넉한 고기와 국물이 이거 진짜구나 싶고요 맛은 전문점에서 먹는 것 이상으로 맛있어요 한 팩 먼저 먹고 두 개 더 있었는데 남편도 이게 최고라고 말해 주네요 포장이 잘 되어 있고 조리 과정이랄 것도 없이 끓이기만하면 되니 이 점도 좋아요 후기 쓰고 있는 지금도 먹고 싶어요 팁 파 한두 대 쫑쫑 썰어 밀패 용기에 담아 두어 먹을 때마다 넉넉히 넣어 드세요'''\n",
    "category_labels\n",
    "{\"밀키트로 냉장 냉동고에 쌓아 두었어요\":'보관',\n",
    "\"넉넉한 고기와 국물이 이거 진짜구나 싶고요\":'양',\n",
    "\"맛은 전문점에서 먹는 것 이상으로 맛있어요\":'맛/향/풍미',\n",
    "\"포장이 잘 되어 있고\":'포장/배송',\n",
    "\"조리 과정이랄 것도 없이 끓이기만하면 되니 이 점도 좋아요\":'활용 방법',\n",
    "\"파 한두 대 쫑쫑 썰어 밀패 용기에 담아 두어 먹을 때마다 넉넉히 넣어 드세요\":'활용 방법'}\n",
    "\"\"\""
   ]
  },
  {
   "cell_type": "code",
   "execution_count": null,
   "id": "0848871d",
   "metadata": {},
   "outputs": [],
   "source": [
    "prompt = f\"\"\"\n",
    "카테고리에는 ['맛/향/풍미', '양', '포장/배송', '보관', '가격', '활용 방법'] 항목이 있다.\n",
    "주어진 review 속 상품에 관한 내용 중 카테고리의 각 항목과 관련되어 있는 일부분인 '파트'를 찾은 후\n",
    "찾은 '파트'에 카테고리 항목을 태깅한 결과를 dictionary 형태의 category_labels로 출력하라.\n",
    "\n",
    "'파트'의 단어 개수는 15개가 넘지 않는다.\n",
    "각 '파트'에는 하나의 카테고리 항목만 태깅한다.\n",
    "어떠한 항목에도 태깅되는 내용이 없으면 빈 dictionary를 출력한다.\n",
    "\n",
    "예시:{example}\n",
    "\"\"\""
   ]
  },
  {
   "cell_type": "code",
   "execution_count": null,
   "id": "794f5ce7",
   "metadata": {},
   "outputs": [],
   "source": [
    "def JSON_parsing(text):\n",
    "    # JSON 형태로 변환\n",
    "    json_str = text.replace(\"'\", '\"')\n",
    "    json_str = re.sub(r'\\\\+', '', json_str)\n",
    "    # JSON 파싱\n",
    "    return json.loads(json_str)\n",
    "\n",
    "\n",
    "def tagging(text):\n",
    "    prompting = (\n",
    "    f\"{prompt}\\n\"\n",
    "    \"문제:\\n\"\n",
    "    \"review\\n\"\n",
    "    f\"'''{text}'''\\n\"\n",
    "    \"category_labels\\n\"  \n",
    "    )\n",
    "    \n",
    "    messages = [(\"system\", \"You are a consumer analyst extracting meaningful phrases from reviews and categorizing them.\"),\n",
    "                (\"user\", prompting)]\n",
    "    \n",
    "    response = llm.invoke(messages)     \n",
    "    return response\n",
    "    #return messages"
   ]
  },
  {
   "cell_type": "code",
   "execution_count": null,
   "id": "3324b15f",
   "metadata": {},
   "outputs": [],
   "source": [
    "data=[]"
   ]
  },
  {
   "cell_type": "code",
   "execution_count": null,
   "id": "fc10e6af",
   "metadata": {},
   "outputs": [],
   "source": [
    "for i in range(100,num):\n",
    "    print(i)\n",
    "    text = df.loc[i, 'cleaned_Kiwi_review']\n",
    "    response = tagging(text)\n",
    "    cate_dict = JSON_parsing(response.content)\n",
    "    row = {'index':i, 'review': text, 'tagging':cate_dict}\n",
    "    data.append(row)\n",
    "    \n",
    "result = pd.DataFrame(data)\n",
    "result"
   ]
  },
  {
   "cell_type": "code",
   "execution_count": null,
   "id": "c57e0a33",
   "metadata": {},
   "outputs": [],
   "source": [
    "result.info()"
   ]
  },
  {
   "cell_type": "code",
   "execution_count": null,
   "id": "bdf989cc",
   "metadata": {},
   "outputs": [],
   "source": [
    "result.to_csv(\"50개씩_카테고리태깅.csv\", index=False, encoding=\"utf-8-sig\")"
   ]
  },
  {
   "cell_type": "code",
   "execution_count": null,
   "id": "d1e5b082",
   "metadata": {},
   "outputs": [],
   "source": []
  },
  {
   "cell_type": "code",
   "execution_count": null,
   "id": "80a8fb86",
   "metadata": {},
   "outputs": [],
   "source": []
  },
  {
   "cell_type": "markdown",
   "id": "44c9821e",
   "metadata": {},
   "source": [
    "### 태깅된 문장 하나씩으로 이루어진 df 만들기"
   ]
  },
  {
   "cell_type": "code",
   "execution_count": null,
   "id": "2a67ef74",
   "metadata": {},
   "outputs": [],
   "source": [
    "df = pd.read_csv('50개씩_감정태깅.csv')\n",
    "df"
   ]
  },
  {
   "cell_type": "code",
   "execution_count": 2,
   "id": "4223ca31",
   "metadata": {},
   "outputs": [
    {
     "name": "stdout",
     "output_type": "stream",
     "text": [
      "{'하트찜꽁 쫀득한 도가니탕 맛있네요': '맛/향/풍미', '국 간은 싱거운데 소금 간 하면 딱이에요': '맛/향/풍미'}\n"
     ]
    }
   ],
   "source": [
    "import ast\n",
    "\n",
    "category = pd.read_csv(\"50개씩_카테고리태깅.csv\")\n",
    "category['tagging'] = category['tagging'].apply(lambda x: ast.literal_eval(x) if isinstance(x, str) else x)\n",
    "print(category.loc[0, 'tagging'])"
   ]
  },
  {
   "cell_type": "code",
   "execution_count": null,
   "id": "7cf4f380",
   "metadata": {},
   "outputs": [],
   "source": [
    "df['tagging']=category['tagging']\n",
    "df"
   ]
  },
  {
   "cell_type": "code",
   "execution_count": null,
   "id": "1b65ae07",
   "metadata": {},
   "outputs": [],
   "source": [
    "total = pd.DataFrame(columns=['product_id', 'review_index', 'review', 'category'])\n",
    "total"
   ]
  },
  {
   "cell_type": "code",
   "execution_count": null,
   "id": "ce9d1e7a",
   "metadata": {},
   "outputs": [],
   "source": [
    "cnt=0\n",
    "\n",
    "for i in range(df.shape[0]):\n",
    "    product_id = df.loc[i, 'product_id']\n",
    "    tagging = df.loc[i, 'tagging']\n",
    "    \n",
    "    if i>0 and product_id != df.loc[i-1, 'product_id']:\n",
    "        cnt=0\n",
    "    review_index = cnt\n",
    "    cnt+=1\n",
    "    \n",
    "    if len(tagging.keys()) == 0:\n",
    "        continue\n",
    "    \n",
    "    for text in tagging.keys():\n",
    "        review = text\n",
    "        category = tagging[text]\n",
    "        row = [product_id, review_index, review, category]\n",
    "        total.loc[len(total)] = row\n",
    "\n",
    "total        "
   ]
  },
  {
   "cell_type": "code",
   "execution_count": null,
   "id": "d6e477d2",
   "metadata": {},
   "outputs": [],
   "source": [
    "total['product_id'].nunique()"
   ]
  },
  {
   "cell_type": "code",
   "execution_count": null,
   "id": "18099193",
   "metadata": {},
   "outputs": [],
   "source": [
    "total['product_id'].value_counts()"
   ]
  },
  {
   "cell_type": "code",
   "execution_count": null,
   "id": "7a2acec1",
   "metadata": {},
   "outputs": [],
   "source": [
    "total.groupby('product_id')['category'].value_counts()"
   ]
  },
  {
   "cell_type": "code",
   "execution_count": null,
   "id": "b89b376b",
   "metadata": {},
   "outputs": [],
   "source": [
    "total.to_csv(\"카테고리_태깅된_문장.csv\", index=False, encoding=\"utf-8-sig\")"
   ]
  },
  {
   "cell_type": "code",
   "execution_count": null,
   "id": "3b8f295e",
   "metadata": {},
   "outputs": [],
   "source": []
  }
 ],
 "metadata": {
  "kernelspec": {
   "display_name": "Python 3 (ipykernel)",
   "language": "python",
   "name": "python3"
  },
  "language_info": {
   "codemirror_mode": {
    "name": "ipython",
    "version": 3
   },
   "file_extension": ".py",
   "mimetype": "text/x-python",
   "name": "python",
   "nbconvert_exporter": "python",
   "pygments_lexer": "ipython3",
   "version": "3.11.4"
  }
 },
 "nbformat": 4,
 "nbformat_minor": 5
}

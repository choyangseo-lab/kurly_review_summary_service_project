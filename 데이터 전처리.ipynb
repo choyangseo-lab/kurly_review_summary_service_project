{
 "cells": [
  {
   "cell_type": "code",
   "execution_count": 1,
   "id": "4f7d7cec",
   "metadata": {},
   "outputs": [],
   "source": [
    "import pandas as pd\n",
    "import re\n",
    "\n",
    "import warnings\n",
    "warnings.filterwarnings('ignore')"
   ]
  },
  {
   "cell_type": "code",
   "execution_count": 2,
   "id": "a8f61466",
   "metadata": {},
   "outputs": [
    {
     "data": {
      "text/html": [
       "<div>\n",
       "<style scoped>\n",
       "    .dataframe tbody tr th:only-of-type {\n",
       "        vertical-align: middle;\n",
       "    }\n",
       "\n",
       "    .dataframe tbody tr th {\n",
       "        vertical-align: top;\n",
       "    }\n",
       "\n",
       "    .dataframe thead th {\n",
       "        text-align: right;\n",
       "    }\n",
       "</style>\n",
       "<table border=\"1\" class=\"dataframe\">\n",
       "  <thead>\n",
       "    <tr style=\"text-align: right;\">\n",
       "      <th></th>\n",
       "      <th>product_id</th>\n",
       "      <th>product_url</th>\n",
       "      <th>product_name</th>\n",
       "      <th>review_num</th>\n",
       "    </tr>\n",
       "  </thead>\n",
       "  <tbody>\n",
       "    <tr>\n",
       "      <th>0</th>\n",
       "      <td>1000498619</td>\n",
       "      <td>https://www.kurly.com/goods/1000498619</td>\n",
       "      <td>[한반] 양곰탕</td>\n",
       "      <td>101</td>\n",
       "    </tr>\n",
       "    <tr>\n",
       "      <th>1</th>\n",
       "      <td>1000356831</td>\n",
       "      <td>https://www.kurly.com/goods/1000356831</td>\n",
       "      <td>[호밍스] 얼큰곤이알탕 400g</td>\n",
       "      <td>102</td>\n",
       "    </tr>\n",
       "    <tr>\n",
       "      <th>2</th>\n",
       "      <td>1000498621</td>\n",
       "      <td>https://www.kurly.com/goods/1000498621</td>\n",
       "      <td>[한반] 내장탕</td>\n",
       "      <td>110</td>\n",
       "    </tr>\n",
       "    <tr>\n",
       "      <th>3</th>\n",
       "      <td>1000659319</td>\n",
       "      <td>https://www.kurly.com/goods/1000659319</td>\n",
       "      <td>[리북방] 이북식 백순대국</td>\n",
       "      <td>118</td>\n",
       "    </tr>\n",
       "    <tr>\n",
       "      <th>4</th>\n",
       "      <td>1000331934</td>\n",
       "      <td>https://www.kurly.com/goods/1000331934</td>\n",
       "      <td>[풀무원] 베트남 쌀국수 Pho 4인분</td>\n",
       "      <td>135</td>\n",
       "    </tr>\n",
       "    <tr>\n",
       "      <th>...</th>\n",
       "      <td>...</td>\n",
       "      <td>...</td>\n",
       "      <td>...</td>\n",
       "      <td>...</td>\n",
       "    </tr>\n",
       "    <tr>\n",
       "      <th>264</th>\n",
       "      <td>5051186</td>\n",
       "      <td>https://www.kurly.com/goods/5051186</td>\n",
       "      <td>[강남면옥] 갈비탕</td>\n",
       "      <td>44921</td>\n",
       "    </tr>\n",
       "    <tr>\n",
       "      <th>265</th>\n",
       "      <td>1000040783</td>\n",
       "      <td>https://www.kurly.com/goods/1000040783</td>\n",
       "      <td>[바른식] 강릉식 짬뽕순두부 찌개</td>\n",
       "      <td>47511</td>\n",
       "    </tr>\n",
       "    <tr>\n",
       "      <th>266</th>\n",
       "      <td>5056783</td>\n",
       "      <td>https://www.kurly.com/goods/5056783</td>\n",
       "      <td>[강창구찹쌀진순대] 찹쌀 진순대국</td>\n",
       "      <td>47721</td>\n",
       "    </tr>\n",
       "    <tr>\n",
       "      <th>267</th>\n",
       "      <td>5042765</td>\n",
       "      <td>https://www.kurly.com/goods/5042765</td>\n",
       "      <td>[외할머니댁] 차돌 된장찌개</td>\n",
       "      <td>50291</td>\n",
       "    </tr>\n",
       "    <tr>\n",
       "      <th>268</th>\n",
       "      <td>5026468</td>\n",
       "      <td>https://www.kurly.com/goods/5026468</td>\n",
       "      <td>[사미헌] 갈비탕</td>\n",
       "      <td>176285</td>\n",
       "    </tr>\n",
       "  </tbody>\n",
       "</table>\n",
       "<p>269 rows × 4 columns</p>\n",
       "</div>"
      ],
      "text/plain": [
       "     product_id                             product_url  \\\n",
       "0    1000498619  https://www.kurly.com/goods/1000498619   \n",
       "1    1000356831  https://www.kurly.com/goods/1000356831   \n",
       "2    1000498621  https://www.kurly.com/goods/1000498621   \n",
       "3    1000659319  https://www.kurly.com/goods/1000659319   \n",
       "4    1000331934  https://www.kurly.com/goods/1000331934   \n",
       "..          ...                                     ...   \n",
       "264     5051186     https://www.kurly.com/goods/5051186   \n",
       "265  1000040783  https://www.kurly.com/goods/1000040783   \n",
       "266     5056783     https://www.kurly.com/goods/5056783   \n",
       "267     5042765     https://www.kurly.com/goods/5042765   \n",
       "268     5026468     https://www.kurly.com/goods/5026468   \n",
       "\n",
       "              product_name  review_num  \n",
       "0                 [한반] 양곰탕         101  \n",
       "1        [호밍스] 얼큰곤이알탕 400g         102  \n",
       "2                 [한반] 내장탕         110  \n",
       "3           [리북방] 이북식 백순대국         118  \n",
       "4    [풀무원] 베트남 쌀국수 Pho 4인분         135  \n",
       "..                     ...         ...  \n",
       "264             [강남면옥] 갈비탕       44921  \n",
       "265     [바른식] 강릉식 짬뽕순두부 찌개       47511  \n",
       "266     [강창구찹쌀진순대] 찹쌀 진순대국       47721  \n",
       "267        [외할머니댁] 차돌 된장찌개       50291  \n",
       "268              [사미헌] 갈비탕      176285  \n",
       "\n",
       "[269 rows x 4 columns]"
      ]
     },
     "execution_count": 2,
     "metadata": {},
     "output_type": "execute_result"
    }
   ],
   "source": [
    "product_df = pd.read_csv(\"./데이터 수집/상품 목록 (리뷰 100개 이상)_오름차순.csv\")\n",
    "product_df"
   ]
  },
  {
   "cell_type": "code",
   "execution_count": 3,
   "id": "1c3bb0a8",
   "metadata": {},
   "outputs": [
    {
     "data": {
      "text/html": [
       "<div>\n",
       "<style scoped>\n",
       "    .dataframe tbody tr th:only-of-type {\n",
       "        vertical-align: middle;\n",
       "    }\n",
       "\n",
       "    .dataframe tbody tr th {\n",
       "        vertical-align: top;\n",
       "    }\n",
       "\n",
       "    .dataframe thead th {\n",
       "        text-align: right;\n",
       "    }\n",
       "</style>\n",
       "<table border=\"1\" class=\"dataframe\">\n",
       "  <thead>\n",
       "    <tr style=\"text-align: right;\">\n",
       "      <th></th>\n",
       "      <th>product_id</th>\n",
       "      <th>product_type</th>\n",
       "      <th>date</th>\n",
       "      <th>help_num</th>\n",
       "      <th>review</th>\n",
       "    </tr>\n",
       "  </thead>\n",
       "  <tbody>\n",
       "    <tr>\n",
       "      <th>0</th>\n",
       "      <td>1000498619</td>\n",
       "      <td>양곰탕</td>\n",
       "      <td>2024-05-26</td>\n",
       "      <td>1</td>\n",
       "      <td>양곰탕 맛집에서 먹는 것보다 맛있어서 몇개 더 쟁였어요!\\n\\n[맛]\\n보통 이런 ...</td>\n",
       "    </tr>\n",
       "    <tr>\n",
       "      <th>1</th>\n",
       "      <td>1000498619</td>\n",
       "      <td>양곰탕</td>\n",
       "      <td>2024-05-25</td>\n",
       "      <td>2</td>\n",
       "      <td>평상시에 LF푸드 제품을 좋아해요.\\n한식 종류가 안나오는게 늘 아쉽긴했는데\\n이번...</td>\n",
       "    </tr>\n",
       "    <tr>\n",
       "      <th>2</th>\n",
       "      <td>1000498619</td>\n",
       "      <td>양곰탕</td>\n",
       "      <td>2024-08-22</td>\n",
       "      <td>0</td>\n",
       "      <td>맛있어요 ㅎㅎ 재구매 할려구요 ㅎㅎ</td>\n",
       "    </tr>\n",
       "    <tr>\n",
       "      <th>3</th>\n",
       "      <td>1000498619</td>\n",
       "      <td>양곰탕</td>\n",
       "      <td>2024-08-22</td>\n",
       "      <td>0</td>\n",
       "      <td>개봉후 냄비에 부으니 기름 덩어리 분리되어 있으니 걷어내기 좋네요\\n물 조금 더 추...</td>\n",
       "    </tr>\n",
       "    <tr>\n",
       "      <th>4</th>\n",
       "      <td>1000498619</td>\n",
       "      <td>양곰탕</td>\n",
       "      <td>2024-08-15</td>\n",
       "      <td>0</td>\n",
       "      <td>후기좋아서 사봤는데 정말 고기가 듬뿍들었고 팍팍하지않고 부들부들하며 고소해요\\n근데...</td>\n",
       "    </tr>\n",
       "    <tr>\n",
       "      <th>...</th>\n",
       "      <td>...</td>\n",
       "      <td>...</td>\n",
       "      <td>...</td>\n",
       "      <td>...</td>\n",
       "      <td>...</td>\n",
       "    </tr>\n",
       "    <tr>\n",
       "      <th>1581412</th>\n",
       "      <td>5026468</td>\n",
       "      <td>갈비탕</td>\n",
       "      <td>2022-11-27</td>\n",
       "      <td>0</td>\n",
       "      <td>다른 브랜드랑 비교해보려고 샀어요 맛있길 기대합니다</td>\n",
       "    </tr>\n",
       "    <tr>\n",
       "      <th>1581413</th>\n",
       "      <td>5026468</td>\n",
       "      <td>갈비탕</td>\n",
       "      <td>2022-11-27</td>\n",
       "      <td>0</td>\n",
       "      <td>맛있어서 자주 구매해요ㆍ</td>\n",
       "    </tr>\n",
       "    <tr>\n",
       "      <th>1581414</th>\n",
       "      <td>5026468</td>\n",
       "      <td>갈비탕</td>\n",
       "      <td>2022-11-27</td>\n",
       "      <td>0</td>\n",
       "      <td>너무맛있어요 고기도 질기지않고 아이들 먹기좋아요</td>\n",
       "    </tr>\n",
       "    <tr>\n",
       "      <th>1581415</th>\n",
       "      <td>5026468</td>\n",
       "      <td>갈비탕</td>\n",
       "      <td>2022-11-27</td>\n",
       "      <td>0</td>\n",
       "      <td>갈비탕중 최고예요 맛있어요</td>\n",
       "    </tr>\n",
       "    <tr>\n",
       "      <th>1581416</th>\n",
       "      <td>5026468</td>\n",
       "      <td>갈비탕</td>\n",
       "      <td>2022-11-27</td>\n",
       "      <td>0</td>\n",
       "      <td>갈비탕중 최고 입니다</td>\n",
       "    </tr>\n",
       "  </tbody>\n",
       "</table>\n",
       "<p>1581417 rows × 5 columns</p>\n",
       "</div>"
      ],
      "text/plain": [
       "         product_id product_type        date  help_num  \\\n",
       "0        1000498619          양곰탕  2024-05-26         1   \n",
       "1        1000498619          양곰탕  2024-05-25         2   \n",
       "2        1000498619          양곰탕  2024-08-22         0   \n",
       "3        1000498619          양곰탕  2024-08-22         0   \n",
       "4        1000498619          양곰탕  2024-08-15         0   \n",
       "...             ...          ...         ...       ...   \n",
       "1581412     5026468          갈비탕  2022-11-27         0   \n",
       "1581413     5026468          갈비탕  2022-11-27         0   \n",
       "1581414     5026468          갈비탕  2022-11-27         0   \n",
       "1581415     5026468          갈비탕  2022-11-27         0   \n",
       "1581416     5026468          갈비탕  2022-11-27         0   \n",
       "\n",
       "                                                    review  \n",
       "0        양곰탕 맛집에서 먹는 것보다 맛있어서 몇개 더 쟁였어요!\\n\\n[맛]\\n보통 이런 ...  \n",
       "1        평상시에 LF푸드 제품을 좋아해요.\\n한식 종류가 안나오는게 늘 아쉽긴했는데\\n이번...  \n",
       "2                                      맛있어요 ㅎㅎ 재구매 할려구요 ㅎㅎ  \n",
       "3        개봉후 냄비에 부으니 기름 덩어리 분리되어 있으니 걷어내기 좋네요\\n물 조금 더 추...  \n",
       "4        후기좋아서 사봤는데 정말 고기가 듬뿍들었고 팍팍하지않고 부들부들하며 고소해요\\n근데...  \n",
       "...                                                    ...  \n",
       "1581412                       다른 브랜드랑 비교해보려고 샀어요 맛있길 기대합니다  \n",
       "1581413                                      맛있어서 자주 구매해요ㆍ  \n",
       "1581414                         너무맛있어요 고기도 질기지않고 아이들 먹기좋아요  \n",
       "1581415                                   갈비탕중 최고예요 맛있어요    \n",
       "1581416                                  갈비탕중 최고 입니다        \n",
       "\n",
       "[1581417 rows x 5 columns]"
      ]
     },
     "execution_count": 3,
     "metadata": {},
     "output_type": "execute_result"
    }
   ],
   "source": [
    "df_raw = pd.read_csv(\"./데이터 수집/국탕찌개 리뷰 전체.csv\")\n",
    "df_raw"
   ]
  },
  {
   "cell_type": "code",
   "execution_count": null,
   "id": "117c37d1",
   "metadata": {},
   "outputs": [],
   "source": [
    "# 개수 = df_raw['product_id'].value_counts()\n",
    "# for id in df['product_id'].unique():\n",
    "#     차이 = 개수[id] - product_df[product_df['product_id']==id]['review_num']\n",
    "#     print(차이)"
   ]
  },
  {
   "cell_type": "markdown",
   "id": "762c46bb",
   "metadata": {},
   "source": [
    "## 데이터 확인"
   ]
  },
  {
   "cell_type": "code",
   "execution_count": 4,
   "id": "8746dd0a",
   "metadata": {},
   "outputs": [
    {
     "name": "stdout",
     "output_type": "stream",
     "text": [
      "<class 'pandas.core.frame.DataFrame'>\n",
      "RangeIndex: 1581417 entries, 0 to 1581416\n",
      "Data columns (total 5 columns):\n",
      " #   Column        Non-Null Count    Dtype \n",
      "---  ------        --------------    ----- \n",
      " 0   product_id    1581417 non-null  int64 \n",
      " 1   product_type  1581417 non-null  object\n",
      " 2   date          1581417 non-null  object\n",
      " 3   help_num      1581417 non-null  int64 \n",
      " 4   review        1581412 non-null  object\n",
      "dtypes: int64(2), object(3)\n",
      "memory usage: 60.3+ MB\n"
     ]
    }
   ],
   "source": [
    "df_raw.info()"
   ]
  },
  {
   "cell_type": "code",
   "execution_count": 5,
   "id": "1e99b352",
   "metadata": {},
   "outputs": [
    {
     "data": {
      "text/plain": [
       "5026468       50332\n",
       "5042765       50295\n",
       "5056783       47723\n",
       "1000040783    47524\n",
       "5051186       44938\n",
       "              ...  \n",
       "1000331934      135\n",
       "1000659319      118\n",
       "1000498621      110\n",
       "1000356831      102\n",
       "1000498619      101\n",
       "Name: product_id, Length: 267, dtype: int64"
      ]
     },
     "execution_count": 5,
     "metadata": {},
     "output_type": "execute_result"
    }
   ],
   "source": [
    "df_raw['product_id'].value_counts()"
   ]
  },
  {
   "cell_type": "code",
   "execution_count": 6,
   "id": "965ecbda",
   "metadata": {},
   "outputs": [
    {
     "data": {
      "text/plain": [
       "(1581417, 5)"
      ]
     },
     "execution_count": 6,
     "metadata": {},
     "output_type": "execute_result"
    }
   ],
   "source": [
    "df_raw.shape"
   ]
  },
  {
   "cell_type": "markdown",
   "id": "d96e3476",
   "metadata": {},
   "source": [
    "### 결측치 제거\n",
    "\n",
    "- `review` 열에서 5개의 결측치 발견"
   ]
  },
  {
   "cell_type": "code",
   "execution_count": 7,
   "id": "ed3e421a",
   "metadata": {},
   "outputs": [
    {
     "data": {
      "text/plain": [
       "product_id      0\n",
       "product_type    0\n",
       "date            0\n",
       "help_num        0\n",
       "review          5\n",
       "dtype: int64"
      ]
     },
     "execution_count": 7,
     "metadata": {},
     "output_type": "execute_result"
    }
   ],
   "source": [
    "df_raw.isnull().sum()"
   ]
  },
  {
   "cell_type": "code",
   "execution_count": 8,
   "id": "be98661b",
   "metadata": {},
   "outputs": [
    {
     "data": {
      "text/html": [
       "<div>\n",
       "<style scoped>\n",
       "    .dataframe tbody tr th:only-of-type {\n",
       "        vertical-align: middle;\n",
       "    }\n",
       "\n",
       "    .dataframe tbody tr th {\n",
       "        vertical-align: top;\n",
       "    }\n",
       "\n",
       "    .dataframe thead th {\n",
       "        text-align: right;\n",
       "    }\n",
       "</style>\n",
       "<table border=\"1\" class=\"dataframe\">\n",
       "  <thead>\n",
       "    <tr style=\"text-align: right;\">\n",
       "      <th></th>\n",
       "      <th>product_id</th>\n",
       "      <th>product_type</th>\n",
       "      <th>date</th>\n",
       "      <th>help_num</th>\n",
       "      <th>review</th>\n",
       "    </tr>\n",
       "  </thead>\n",
       "  <tbody>\n",
       "    <tr>\n",
       "      <th>402687</th>\n",
       "      <td>5048737</td>\n",
       "      <td>깊은맛 소고기미역국</td>\n",
       "      <td>2021-09-02</td>\n",
       "      <td>0</td>\n",
       "      <td>NaN</td>\n",
       "    </tr>\n",
       "    <tr>\n",
       "      <th>424676</th>\n",
       "      <td>5095180</td>\n",
       "      <td>얼큰 순두부찌개 KIT</td>\n",
       "      <td>2022-09-26</td>\n",
       "      <td>0</td>\n",
       "      <td>NaN</td>\n",
       "    </tr>\n",
       "    <tr>\n",
       "      <th>699753</th>\n",
       "      <td>5119471</td>\n",
       "      <td>들깨 미역국</td>\n",
       "      <td>2022-08-11</td>\n",
       "      <td>0</td>\n",
       "      <td>NaN</td>\n",
       "    </tr>\n",
       "    <tr>\n",
       "      <th>822980</th>\n",
       "      <td>5048745</td>\n",
       "      <td>감자탕</td>\n",
       "      <td>2022-08-18</td>\n",
       "      <td>0</td>\n",
       "      <td>NaN</td>\n",
       "    </tr>\n",
       "    <tr>\n",
       "      <th>991525</th>\n",
       "      <td>5110442</td>\n",
       "      <td>야채담은 소불고기 400g (냉동)</td>\n",
       "      <td>2022-11-09</td>\n",
       "      <td>0</td>\n",
       "      <td>NaN</td>\n",
       "    </tr>\n",
       "  </tbody>\n",
       "</table>\n",
       "</div>"
      ],
      "text/plain": [
       "        product_id         product_type        date  help_num review\n",
       "402687     5048737           깊은맛 소고기미역국  2021-09-02         0    NaN\n",
       "424676     5095180         얼큰 순두부찌개 KIT  2022-09-26         0    NaN\n",
       "699753     5119471               들깨 미역국  2022-08-11         0    NaN\n",
       "822980     5048745                  감자탕  2022-08-18         0    NaN\n",
       "991525     5110442  야채담은 소불고기 400g (냉동)  2022-11-09         0    NaN"
      ]
     },
     "execution_count": 8,
     "metadata": {},
     "output_type": "execute_result"
    }
   ],
   "source": [
    "df_raw[df_raw.isnull().any(axis=1)]"
   ]
  },
  {
   "cell_type": "code",
   "execution_count": 9,
   "id": "22284910",
   "metadata": {},
   "outputs": [
    {
     "data": {
      "text/plain": [
       "product_id      0\n",
       "product_type    0\n",
       "date            0\n",
       "help_num        0\n",
       "review          0\n",
       "dtype: int64"
      ]
     },
     "execution_count": 9,
     "metadata": {},
     "output_type": "execute_result"
    }
   ],
   "source": [
    "df = df_raw.dropna(axis = 0)\n",
    "df.isnull().sum()"
   ]
  },
  {
   "cell_type": "code",
   "execution_count": 10,
   "id": "3ff5f4de",
   "metadata": {},
   "outputs": [
    {
     "data": {
      "text/plain": [
       "(1581412, 5)"
      ]
     },
     "execution_count": 10,
     "metadata": {},
     "output_type": "execute_result"
    }
   ],
   "source": [
    "df.shape"
   ]
  },
  {
   "cell_type": "markdown",
   "id": "cdfb34a6",
   "metadata": {},
   "source": [
    "### 중복 제외"
   ]
  },
  {
   "cell_type": "code",
   "execution_count": 11,
   "id": "664beee5",
   "metadata": {},
   "outputs": [],
   "source": [
    "중복되는행 = df.duplicated()"
   ]
  },
  {
   "cell_type": "code",
   "execution_count": 12,
   "id": "9d1d9509",
   "metadata": {},
   "outputs": [
    {
     "data": {
      "text/html": [
       "<div>\n",
       "<style scoped>\n",
       "    .dataframe tbody tr th:only-of-type {\n",
       "        vertical-align: middle;\n",
       "    }\n",
       "\n",
       "    .dataframe tbody tr th {\n",
       "        vertical-align: top;\n",
       "    }\n",
       "\n",
       "    .dataframe thead th {\n",
       "        text-align: right;\n",
       "    }\n",
       "</style>\n",
       "<table border=\"1\" class=\"dataframe\">\n",
       "  <thead>\n",
       "    <tr style=\"text-align: right;\">\n",
       "      <th></th>\n",
       "      <th>product_id</th>\n",
       "      <th>product_type</th>\n",
       "      <th>date</th>\n",
       "      <th>help_num</th>\n",
       "      <th>review</th>\n",
       "    </tr>\n",
       "  </thead>\n",
       "  <tbody>\n",
       "    <tr>\n",
       "      <th>1340</th>\n",
       "      <td>1000408456</td>\n",
       "      <td>한우 배추 된장국</td>\n",
       "      <td>2024-05-30</td>\n",
       "      <td>0</td>\n",
       "      <td>좋아요~ 잘 받았어요~~~~~~</td>\n",
       "    </tr>\n",
       "    <tr>\n",
       "      <th>2951</th>\n",
       "      <td>1000408450</td>\n",
       "      <td>한우 소고기 미역국</td>\n",
       "      <td>2024-05-27</td>\n",
       "      <td>0</td>\n",
       "      <td>아이들이 잘먹네요 어른도 맛난</td>\n",
       "    </tr>\n",
       "    <tr>\n",
       "      <th>3058</th>\n",
       "      <td>1000408450</td>\n",
       "      <td>한우 소고기 미역국</td>\n",
       "      <td>2024-02-16</td>\n",
       "      <td>0</td>\n",
       "      <td>좋아요 잘 받았어요~~~</td>\n",
       "    </tr>\n",
       "    <tr>\n",
       "      <th>3793</th>\n",
       "      <td>1000166234</td>\n",
       "      <td>인삼품은 소꼬리곰탕</td>\n",
       "      <td>2023-10-18</td>\n",
       "      <td>0</td>\n",
       "      <td>꼬리곰탕 싸고 맛있어요</td>\n",
       "    </tr>\n",
       "    <tr>\n",
       "      <th>3956</th>\n",
       "      <td>1000605720</td>\n",
       "      <td>짬뽕순두부찌개</td>\n",
       "      <td>2024-08-13</td>\n",
       "      <td>0</td>\n",
       "      <td>오오 요거 너무 간편하고 맛있네요! 매장에서 먹은 맛이랑 흡사해요! 세일 자주해주세요!</td>\n",
       "    </tr>\n",
       "    <tr>\n",
       "      <th>...</th>\n",
       "      <td>...</td>\n",
       "      <td>...</td>\n",
       "      <td>...</td>\n",
       "      <td>...</td>\n",
       "      <td>...</td>\n",
       "    </tr>\n",
       "    <tr>\n",
       "      <th>1579249</th>\n",
       "      <td>5026468</td>\n",
       "      <td>갈비탕</td>\n",
       "      <td>2022-12-15</td>\n",
       "      <td>0</td>\n",
       "      <td>맛있습니다 역시 마켓~ \\n도시로 이사오니 이런게 참 좋네요</td>\n",
       "    </tr>\n",
       "    <tr>\n",
       "      <th>1580476</th>\n",
       "      <td>5026468</td>\n",
       "      <td>갈비탕</td>\n",
       "      <td>2022-12-06</td>\n",
       "      <td>0</td>\n",
       "      <td>갈비살이 맛있어요. 몇번째 주문한건지 셀수 없음. 강력추천해요!</td>\n",
       "    </tr>\n",
       "    <tr>\n",
       "      <th>1580798</th>\n",
       "      <td>5026468</td>\n",
       "      <td>갈비탕</td>\n",
       "      <td>2022-12-03</td>\n",
       "      <td>0</td>\n",
       "      <td>항상 쟁여놓고 필요할때 든든히 잘 먹습니다</td>\n",
       "    </tr>\n",
       "    <tr>\n",
       "      <th>1580799</th>\n",
       "      <td>5026468</td>\n",
       "      <td>갈비탕</td>\n",
       "      <td>2022-12-03</td>\n",
       "      <td>0</td>\n",
       "      <td>항상 쟁여놓고 필요할때 든든히 잘 먹습니다</td>\n",
       "    </tr>\n",
       "    <tr>\n",
       "      <th>1581384</th>\n",
       "      <td>5026468</td>\n",
       "      <td>갈비탕</td>\n",
       "      <td>2022-11-27</td>\n",
       "      <td>0</td>\n",
       "      <td>맛있어서 자주 시켜먹고있어요.\\n간편하게 애들 먹이기 좋습니다.\\n하나면 애 둘은 ...</td>\n",
       "    </tr>\n",
       "  </tbody>\n",
       "</table>\n",
       "<p>3181 rows × 5 columns</p>\n",
       "</div>"
      ],
      "text/plain": [
       "         product_id product_type        date  help_num  \\\n",
       "1340     1000408456    한우 배추 된장국  2024-05-30         0   \n",
       "2951     1000408450   한우 소고기 미역국  2024-05-27         0   \n",
       "3058     1000408450   한우 소고기 미역국  2024-02-16         0   \n",
       "3793     1000166234   인삼품은 소꼬리곰탕  2023-10-18         0   \n",
       "3956     1000605720      짬뽕순두부찌개  2024-08-13         0   \n",
       "...             ...          ...         ...       ...   \n",
       "1579249     5026468          갈비탕  2022-12-15         0   \n",
       "1580476     5026468          갈비탕  2022-12-06         0   \n",
       "1580798     5026468          갈비탕  2022-12-03         0   \n",
       "1580799     5026468          갈비탕  2022-12-03         0   \n",
       "1581384     5026468          갈비탕  2022-11-27         0   \n",
       "\n",
       "                                                    review  \n",
       "1340                                     좋아요~ 잘 받았어요~~~~~~  \n",
       "2951                                     아이들이 잘먹네요 어른도 맛난   \n",
       "3058                                         좋아요 잘 받았어요~~~  \n",
       "3793                                          꼬리곰탕 싸고 맛있어요  \n",
       "3956      오오 요거 너무 간편하고 맛있네요! 매장에서 먹은 맛이랑 흡사해요! 세일 자주해주세요!  \n",
       "...                                                    ...  \n",
       "1579249                  맛있습니다 역시 마켓~ \\n도시로 이사오니 이런게 참 좋네요  \n",
       "1580476                갈비살이 맛있어요. 몇번째 주문한건지 셀수 없음. 강력추천해요!  \n",
       "1580798                            항상 쟁여놓고 필요할때 든든히 잘 먹습니다  \n",
       "1580799                            항상 쟁여놓고 필요할때 든든히 잘 먹습니다  \n",
       "1581384  맛있어서 자주 시켜먹고있어요.\\n간편하게 애들 먹이기 좋습니다.\\n하나면 애 둘은 ...  \n",
       "\n",
       "[3181 rows x 5 columns]"
      ]
     },
     "execution_count": 12,
     "metadata": {},
     "output_type": "execute_result"
    }
   ],
   "source": [
    "df[중복되는행]"
   ]
  },
  {
   "cell_type": "code",
   "execution_count": 13,
   "id": "211e0d24",
   "metadata": {},
   "outputs": [
    {
     "data": {
      "text/plain": [
       "(1578231, 5)"
      ]
     },
     "execution_count": 13,
     "metadata": {},
     "output_type": "execute_result"
    }
   ],
   "source": [
    "df.drop_duplicates(inplace=True)\n",
    "df.shape"
   ]
  },
  {
   "cell_type": "markdown",
   "id": "61a10ea8",
   "metadata": {},
   "source": [
    "### 한국어 리뷰만 남기기\n",
    "\n",
    "- 한글이 적어도 1개 포함된 리뷰만 남기기\n",
    "- 일부 한국어 리뷰 안에서도 제품명이나 기업명 등에서 영어가 사용될 수는 있음  \n",
    "- 아예 영어로만 쓰여진 리뷰들을 제거"
   ]
  },
  {
   "cell_type": "code",
   "execution_count": 14,
   "id": "fef6e8ce",
   "metadata": {},
   "outputs": [],
   "source": [
    "한국어포함 = df['review'].apply(lambda x: bool(re.search(r'[가-힣]', x)))\n",
    "한국어미포함 = df[~한국어포함]"
   ]
  },
  {
   "cell_type": "code",
   "execution_count": 15,
   "id": "52d56df7",
   "metadata": {},
   "outputs": [
    {
     "data": {
      "text/html": [
       "<div>\n",
       "<style scoped>\n",
       "    .dataframe tbody tr th:only-of-type {\n",
       "        vertical-align: middle;\n",
       "    }\n",
       "\n",
       "    .dataframe tbody tr th {\n",
       "        vertical-align: top;\n",
       "    }\n",
       "\n",
       "    .dataframe thead th {\n",
       "        text-align: right;\n",
       "    }\n",
       "</style>\n",
       "<table border=\"1\" class=\"dataframe\">\n",
       "  <thead>\n",
       "    <tr style=\"text-align: right;\">\n",
       "      <th></th>\n",
       "      <th>product_id</th>\n",
       "      <th>product_type</th>\n",
       "      <th>date</th>\n",
       "      <th>help_num</th>\n",
       "      <th>review</th>\n",
       "    </tr>\n",
       "  </thead>\n",
       "  <tbody>\n",
       "    <tr>\n",
       "      <th>1446</th>\n",
       "      <td>1000239338</td>\n",
       "      <td>사골육개장</td>\n",
       "      <td>2024-06-04</td>\n",
       "      <td>0</td>\n",
       "      <td>The best of all</td>\n",
       "    </tr>\n",
       "    <tr>\n",
       "      <th>3132</th>\n",
       "      <td>1000605738</td>\n",
       "      <td>듬뿍육개장</td>\n",
       "      <td>2024-08-12</td>\n",
       "      <td>0</td>\n",
       "      <td>well I have a lot of work on gjj</td>\n",
       "    </tr>\n",
       "    <tr>\n",
       "      <th>5492</th>\n",
       "      <td>1000176459</td>\n",
       "      <td>고깃집 갈비살 된장찌개</td>\n",
       "      <td>2024-02-15</td>\n",
       "      <td>0</td>\n",
       "      <td>well I have to get back to work now and</td>\n",
       "    </tr>\n",
       "    <tr>\n",
       "      <th>8981</th>\n",
       "      <td>1000263556</td>\n",
       "      <td>뼈없는 갈비탕</td>\n",
       "      <td>2024-01-06</td>\n",
       "      <td>0</td>\n",
       "      <td>. Good good good</td>\n",
       "    </tr>\n",
       "    <tr>\n",
       "      <th>9340</th>\n",
       "      <td>1000325147</td>\n",
       "      <td>떡곰탕</td>\n",
       "      <td>2024-01-14</td>\n",
       "      <td>0</td>\n",
       "      <td>Good tasting soup</td>\n",
       "    </tr>\n",
       "    <tr>\n",
       "      <th>...</th>\n",
       "      <td>...</td>\n",
       "      <td>...</td>\n",
       "      <td>...</td>\n",
       "      <td>...</td>\n",
       "      <td>...</td>\n",
       "    </tr>\n",
       "    <tr>\n",
       "      <th>1565645</th>\n",
       "      <td>5026468</td>\n",
       "      <td>갈비탕</td>\n",
       "      <td>2023-04-16</td>\n",
       "      <td>0</td>\n",
       "      <td>CastorPolluxCastorPollux</td>\n",
       "    </tr>\n",
       "    <tr>\n",
       "      <th>1565820</th>\n",
       "      <td>5026468</td>\n",
       "      <td>갈비탕</td>\n",
       "      <td>2023-04-14</td>\n",
       "      <td>0</td>\n",
       "      <td>I love this soup.  I have ordered it several t...</td>\n",
       "    </tr>\n",
       "    <tr>\n",
       "      <th>1570950</th>\n",
       "      <td>5026468</td>\n",
       "      <td>갈비탕</td>\n",
       "      <td>2023-02-12</td>\n",
       "      <td>0</td>\n",
       "      <td>CastorPolluxCastorPollux</td>\n",
       "    </tr>\n",
       "    <tr>\n",
       "      <th>1573063</th>\n",
       "      <td>5026468</td>\n",
       "      <td>갈비탕</td>\n",
       "      <td>2023-01-25</td>\n",
       "      <td>0</td>\n",
       "      <td>ㅎㅎㅎㅎㅎㅎㅎㅎㅎㅎㅎㅎㅎㅎㅎ</td>\n",
       "    </tr>\n",
       "    <tr>\n",
       "      <th>1574461</th>\n",
       "      <td>5026468</td>\n",
       "      <td>갈비탕</td>\n",
       "      <td>2023-01-12</td>\n",
       "      <td>0</td>\n",
       "      <td>Goodgoodgoodgoodgood goodgoodgoodgoodgood</td>\n",
       "    </tr>\n",
       "  </tbody>\n",
       "</table>\n",
       "<p>826 rows × 5 columns</p>\n",
       "</div>"
      ],
      "text/plain": [
       "         product_id  product_type        date  help_num  \\\n",
       "1446     1000239338         사골육개장  2024-06-04         0   \n",
       "3132     1000605738         듬뿍육개장  2024-08-12         0   \n",
       "5492     1000176459  고깃집 갈비살 된장찌개  2024-02-15         0   \n",
       "8981     1000263556       뼈없는 갈비탕  2024-01-06         0   \n",
       "9340     1000325147           떡곰탕  2024-01-14         0   \n",
       "...             ...           ...         ...       ...   \n",
       "1565645     5026468           갈비탕  2023-04-16         0   \n",
       "1565820     5026468           갈비탕  2023-04-14         0   \n",
       "1570950     5026468           갈비탕  2023-02-12         0   \n",
       "1573063     5026468           갈비탕  2023-01-25         0   \n",
       "1574461     5026468           갈비탕  2023-01-12         0   \n",
       "\n",
       "                                                    review  \n",
       "1446                                       The best of all  \n",
       "3132                      well I have a lot of work on gjj  \n",
       "5492              well I have to get back to work now and   \n",
       "8981                                     . Good good good   \n",
       "9340                                     Good tasting soup  \n",
       "...                                                    ...  \n",
       "1565645                           CastorPolluxCastorPollux  \n",
       "1565820  I love this soup.  I have ordered it several t...  \n",
       "1570950                           CastorPolluxCastorPollux  \n",
       "1573063                                    ㅎㅎㅎㅎㅎㅎㅎㅎㅎㅎㅎㅎㅎㅎㅎ  \n",
       "1574461         Goodgoodgoodgoodgood goodgoodgoodgoodgood   \n",
       "\n",
       "[826 rows x 5 columns]"
      ]
     },
     "execution_count": 15,
     "metadata": {},
     "output_type": "execute_result"
    }
   ],
   "source": [
    "한국어미포함"
   ]
  },
  {
   "cell_type": "code",
   "execution_count": 16,
   "id": "adc99272",
   "metadata": {},
   "outputs": [],
   "source": [
    "def leave_only_korean(df):\n",
    "    return df[df['review'].apply(lambda x: bool(re.search(r'[가-힣]', x)))]"
   ]
  },
  {
   "cell_type": "code",
   "execution_count": 18,
   "id": "30926568",
   "metadata": {},
   "outputs": [
    {
     "data": {
      "text/html": [
       "<div>\n",
       "<style scoped>\n",
       "    .dataframe tbody tr th:only-of-type {\n",
       "        vertical-align: middle;\n",
       "    }\n",
       "\n",
       "    .dataframe tbody tr th {\n",
       "        vertical-align: top;\n",
       "    }\n",
       "\n",
       "    .dataframe thead th {\n",
       "        text-align: right;\n",
       "    }\n",
       "</style>\n",
       "<table border=\"1\" class=\"dataframe\">\n",
       "  <thead>\n",
       "    <tr style=\"text-align: right;\">\n",
       "      <th></th>\n",
       "      <th>product_id</th>\n",
       "      <th>product_type</th>\n",
       "      <th>date</th>\n",
       "      <th>help_num</th>\n",
       "      <th>review</th>\n",
       "    </tr>\n",
       "  </thead>\n",
       "  <tbody>\n",
       "    <tr>\n",
       "      <th>0</th>\n",
       "      <td>1000498619</td>\n",
       "      <td>양곰탕</td>\n",
       "      <td>2024-05-26</td>\n",
       "      <td>1</td>\n",
       "      <td>양곰탕 맛집에서 먹는 것보다 맛있어서 몇개 더 쟁였어요!\\n\\n[맛]\\n보통 이런 ...</td>\n",
       "    </tr>\n",
       "    <tr>\n",
       "      <th>1</th>\n",
       "      <td>1000498619</td>\n",
       "      <td>양곰탕</td>\n",
       "      <td>2024-05-25</td>\n",
       "      <td>2</td>\n",
       "      <td>평상시에 LF푸드 제품을 좋아해요.\\n한식 종류가 안나오는게 늘 아쉽긴했는데\\n이번...</td>\n",
       "    </tr>\n",
       "    <tr>\n",
       "      <th>2</th>\n",
       "      <td>1000498619</td>\n",
       "      <td>양곰탕</td>\n",
       "      <td>2024-08-22</td>\n",
       "      <td>0</td>\n",
       "      <td>맛있어요 ㅎㅎ 재구매 할려구요 ㅎㅎ</td>\n",
       "    </tr>\n",
       "    <tr>\n",
       "      <th>3</th>\n",
       "      <td>1000498619</td>\n",
       "      <td>양곰탕</td>\n",
       "      <td>2024-08-22</td>\n",
       "      <td>0</td>\n",
       "      <td>개봉후 냄비에 부으니 기름 덩어리 분리되어 있으니 걷어내기 좋네요\\n물 조금 더 추...</td>\n",
       "    </tr>\n",
       "    <tr>\n",
       "      <th>4</th>\n",
       "      <td>1000498619</td>\n",
       "      <td>양곰탕</td>\n",
       "      <td>2024-08-15</td>\n",
       "      <td>0</td>\n",
       "      <td>후기좋아서 사봤는데 정말 고기가 듬뿍들었고 팍팍하지않고 부들부들하며 고소해요\\n근데...</td>\n",
       "    </tr>\n",
       "    <tr>\n",
       "      <th>...</th>\n",
       "      <td>...</td>\n",
       "      <td>...</td>\n",
       "      <td>...</td>\n",
       "      <td>...</td>\n",
       "      <td>...</td>\n",
       "    </tr>\n",
       "    <tr>\n",
       "      <th>1581412</th>\n",
       "      <td>5026468</td>\n",
       "      <td>갈비탕</td>\n",
       "      <td>2022-11-27</td>\n",
       "      <td>0</td>\n",
       "      <td>다른 브랜드랑 비교해보려고 샀어요 맛있길 기대합니다</td>\n",
       "    </tr>\n",
       "    <tr>\n",
       "      <th>1581413</th>\n",
       "      <td>5026468</td>\n",
       "      <td>갈비탕</td>\n",
       "      <td>2022-11-27</td>\n",
       "      <td>0</td>\n",
       "      <td>맛있어서 자주 구매해요ㆍ</td>\n",
       "    </tr>\n",
       "    <tr>\n",
       "      <th>1581414</th>\n",
       "      <td>5026468</td>\n",
       "      <td>갈비탕</td>\n",
       "      <td>2022-11-27</td>\n",
       "      <td>0</td>\n",
       "      <td>너무맛있어요 고기도 질기지않고 아이들 먹기좋아요</td>\n",
       "    </tr>\n",
       "    <tr>\n",
       "      <th>1581415</th>\n",
       "      <td>5026468</td>\n",
       "      <td>갈비탕</td>\n",
       "      <td>2022-11-27</td>\n",
       "      <td>0</td>\n",
       "      <td>갈비탕중 최고예요 맛있어요</td>\n",
       "    </tr>\n",
       "    <tr>\n",
       "      <th>1581416</th>\n",
       "      <td>5026468</td>\n",
       "      <td>갈비탕</td>\n",
       "      <td>2022-11-27</td>\n",
       "      <td>0</td>\n",
       "      <td>갈비탕중 최고 입니다</td>\n",
       "    </tr>\n",
       "  </tbody>\n",
       "</table>\n",
       "<p>1577405 rows × 5 columns</p>\n",
       "</div>"
      ],
      "text/plain": [
       "         product_id product_type        date  help_num  \\\n",
       "0        1000498619          양곰탕  2024-05-26         1   \n",
       "1        1000498619          양곰탕  2024-05-25         2   \n",
       "2        1000498619          양곰탕  2024-08-22         0   \n",
       "3        1000498619          양곰탕  2024-08-22         0   \n",
       "4        1000498619          양곰탕  2024-08-15         0   \n",
       "...             ...          ...         ...       ...   \n",
       "1581412     5026468          갈비탕  2022-11-27         0   \n",
       "1581413     5026468          갈비탕  2022-11-27         0   \n",
       "1581414     5026468          갈비탕  2022-11-27         0   \n",
       "1581415     5026468          갈비탕  2022-11-27         0   \n",
       "1581416     5026468          갈비탕  2022-11-27         0   \n",
       "\n",
       "                                                    review  \n",
       "0        양곰탕 맛집에서 먹는 것보다 맛있어서 몇개 더 쟁였어요!\\n\\n[맛]\\n보통 이런 ...  \n",
       "1        평상시에 LF푸드 제품을 좋아해요.\\n한식 종류가 안나오는게 늘 아쉽긴했는데\\n이번...  \n",
       "2                                      맛있어요 ㅎㅎ 재구매 할려구요 ㅎㅎ  \n",
       "3        개봉후 냄비에 부으니 기름 덩어리 분리되어 있으니 걷어내기 좋네요\\n물 조금 더 추...  \n",
       "4        후기좋아서 사봤는데 정말 고기가 듬뿍들었고 팍팍하지않고 부들부들하며 고소해요\\n근데...  \n",
       "...                                                    ...  \n",
       "1581412                       다른 브랜드랑 비교해보려고 샀어요 맛있길 기대합니다  \n",
       "1581413                                      맛있어서 자주 구매해요ㆍ  \n",
       "1581414                         너무맛있어요 고기도 질기지않고 아이들 먹기좋아요  \n",
       "1581415                                   갈비탕중 최고예요 맛있어요    \n",
       "1581416                                  갈비탕중 최고 입니다        \n",
       "\n",
       "[1577405 rows x 5 columns]"
      ]
     },
     "execution_count": 18,
     "metadata": {},
     "output_type": "execute_result"
    }
   ],
   "source": [
    "df= leave_only_korean(df)\n",
    "df"
   ]
  },
  {
   "cell_type": "markdown",
   "id": "6ec5391e",
   "metadata": {},
   "source": [
    "### 특수문자 + 이모티콘 제거\n",
    "\n",
    "- `r\"[^가-힣A-Za-z0-9\\w\\s]\"` : 한국어, 영어, 숫자, 띄어쓰기, 줄바꿈을 제외한 모든 문자를 제거\n",
    "- `r\"([ㄱ-ㅎㅏ-ㅣ])\\1{1,}\"` : 'ㅋㅋㅋㅋ', 'ㅠㅠㅠㅠㅠ'와 같이 하나의 모음 혹은 자음으로 이루어진 문자 제거"
   ]
  },
  {
   "cell_type": "code",
   "execution_count": 19,
   "id": "85fb4aaf",
   "metadata": {},
   "outputs": [],
   "source": [
    "def clean_text(text):    \n",
    "    pattern_1 = r\"[^가-힣A-Za-z0-9\\w\\s]\"\n",
    "    pattern_2 = r\"([ㄱ-ㅎㅏ-ㅣ])\\1{1,}\"\n",
    "    \n",
    "    text = re.sub(pattern_1, '', text)\n",
    "    text = re.sub(pattern_2, '', text)\n",
    "    return text"
   ]
  },
  {
   "cell_type": "code",
   "execution_count": 20,
   "id": "89559bf3",
   "metadata": {},
   "outputs": [
    {
     "data": {
      "text/html": [
       "<div>\n",
       "<style scoped>\n",
       "    .dataframe tbody tr th:only-of-type {\n",
       "        vertical-align: middle;\n",
       "    }\n",
       "\n",
       "    .dataframe tbody tr th {\n",
       "        vertical-align: top;\n",
       "    }\n",
       "\n",
       "    .dataframe thead th {\n",
       "        text-align: right;\n",
       "    }\n",
       "</style>\n",
       "<table border=\"1\" class=\"dataframe\">\n",
       "  <thead>\n",
       "    <tr style=\"text-align: right;\">\n",
       "      <th></th>\n",
       "      <th>product_id</th>\n",
       "      <th>product_type</th>\n",
       "      <th>date</th>\n",
       "      <th>help_num</th>\n",
       "      <th>review</th>\n",
       "      <th>cleaned_review</th>\n",
       "    </tr>\n",
       "  </thead>\n",
       "  <tbody>\n",
       "    <tr>\n",
       "      <th>0</th>\n",
       "      <td>1000498619</td>\n",
       "      <td>양곰탕</td>\n",
       "      <td>2024-05-26</td>\n",
       "      <td>1</td>\n",
       "      <td>양곰탕 맛집에서 먹는 것보다 맛있어서 몇개 더 쟁였어요!\\n\\n[맛]\\n보통 이런 ...</td>\n",
       "      <td>양곰탕 맛집에서 먹는 것보다 맛있어서 몇개 더 쟁였어요\\n\\n맛\\n보통 이런 냉동 ...</td>\n",
       "    </tr>\n",
       "    <tr>\n",
       "      <th>1</th>\n",
       "      <td>1000498619</td>\n",
       "      <td>양곰탕</td>\n",
       "      <td>2024-05-25</td>\n",
       "      <td>2</td>\n",
       "      <td>평상시에 LF푸드 제품을 좋아해요.\\n한식 종류가 안나오는게 늘 아쉽긴했는데\\n이번...</td>\n",
       "      <td>평상시에 LF푸드 제품을 좋아해요\\n한식 종류가 안나오는게 늘 아쉽긴했는데\\n이번에...</td>\n",
       "    </tr>\n",
       "    <tr>\n",
       "      <th>2</th>\n",
       "      <td>1000498619</td>\n",
       "      <td>양곰탕</td>\n",
       "      <td>2024-08-22</td>\n",
       "      <td>0</td>\n",
       "      <td>맛있어요 ㅎㅎ 재구매 할려구요 ㅎㅎ</td>\n",
       "      <td>맛있어요  재구매 할려구요</td>\n",
       "    </tr>\n",
       "    <tr>\n",
       "      <th>3</th>\n",
       "      <td>1000498619</td>\n",
       "      <td>양곰탕</td>\n",
       "      <td>2024-08-22</td>\n",
       "      <td>0</td>\n",
       "      <td>개봉후 냄비에 부으니 기름 덩어리 분리되어 있으니 걷어내기 좋네요\\n물 조금 더 추...</td>\n",
       "      <td>개봉후 냄비에 부으니 기름 덩어리 분리되어 있으니 걷어내기 좋네요\\n물 조금 더 추...</td>\n",
       "    </tr>\n",
       "    <tr>\n",
       "      <th>4</th>\n",
       "      <td>1000498619</td>\n",
       "      <td>양곰탕</td>\n",
       "      <td>2024-08-15</td>\n",
       "      <td>0</td>\n",
       "      <td>후기좋아서 사봤는데 정말 고기가 듬뿍들었고 팍팍하지않고 부들부들하며 고소해요\\n근데...</td>\n",
       "      <td>후기좋아서 사봤는데 정말 고기가 듬뿍들었고 팍팍하지않고 부들부들하며 고소해요\\n근데...</td>\n",
       "    </tr>\n",
       "    <tr>\n",
       "      <th>...</th>\n",
       "      <td>...</td>\n",
       "      <td>...</td>\n",
       "      <td>...</td>\n",
       "      <td>...</td>\n",
       "      <td>...</td>\n",
       "      <td>...</td>\n",
       "    </tr>\n",
       "    <tr>\n",
       "      <th>1581412</th>\n",
       "      <td>5026468</td>\n",
       "      <td>갈비탕</td>\n",
       "      <td>2022-11-27</td>\n",
       "      <td>0</td>\n",
       "      <td>다른 브랜드랑 비교해보려고 샀어요 맛있길 기대합니다</td>\n",
       "      <td>다른 브랜드랑 비교해보려고 샀어요 맛있길 기대합니다</td>\n",
       "    </tr>\n",
       "    <tr>\n",
       "      <th>1581413</th>\n",
       "      <td>5026468</td>\n",
       "      <td>갈비탕</td>\n",
       "      <td>2022-11-27</td>\n",
       "      <td>0</td>\n",
       "      <td>맛있어서 자주 구매해요ㆍ</td>\n",
       "      <td>맛있어서 자주 구매해요ㆍ</td>\n",
       "    </tr>\n",
       "    <tr>\n",
       "      <th>1581414</th>\n",
       "      <td>5026468</td>\n",
       "      <td>갈비탕</td>\n",
       "      <td>2022-11-27</td>\n",
       "      <td>0</td>\n",
       "      <td>너무맛있어요 고기도 질기지않고 아이들 먹기좋아요</td>\n",
       "      <td>너무맛있어요 고기도 질기지않고 아이들 먹기좋아요</td>\n",
       "    </tr>\n",
       "    <tr>\n",
       "      <th>1581415</th>\n",
       "      <td>5026468</td>\n",
       "      <td>갈비탕</td>\n",
       "      <td>2022-11-27</td>\n",
       "      <td>0</td>\n",
       "      <td>갈비탕중 최고예요 맛있어요</td>\n",
       "      <td>갈비탕중 최고예요 맛있어요</td>\n",
       "    </tr>\n",
       "    <tr>\n",
       "      <th>1581416</th>\n",
       "      <td>5026468</td>\n",
       "      <td>갈비탕</td>\n",
       "      <td>2022-11-27</td>\n",
       "      <td>0</td>\n",
       "      <td>갈비탕중 최고 입니다</td>\n",
       "      <td>갈비탕중 최고 입니다</td>\n",
       "    </tr>\n",
       "  </tbody>\n",
       "</table>\n",
       "<p>1577405 rows × 6 columns</p>\n",
       "</div>"
      ],
      "text/plain": [
       "         product_id product_type        date  help_num  \\\n",
       "0        1000498619          양곰탕  2024-05-26         1   \n",
       "1        1000498619          양곰탕  2024-05-25         2   \n",
       "2        1000498619          양곰탕  2024-08-22         0   \n",
       "3        1000498619          양곰탕  2024-08-22         0   \n",
       "4        1000498619          양곰탕  2024-08-15         0   \n",
       "...             ...          ...         ...       ...   \n",
       "1581412     5026468          갈비탕  2022-11-27         0   \n",
       "1581413     5026468          갈비탕  2022-11-27         0   \n",
       "1581414     5026468          갈비탕  2022-11-27         0   \n",
       "1581415     5026468          갈비탕  2022-11-27         0   \n",
       "1581416     5026468          갈비탕  2022-11-27         0   \n",
       "\n",
       "                                                    review  \\\n",
       "0        양곰탕 맛집에서 먹는 것보다 맛있어서 몇개 더 쟁였어요!\\n\\n[맛]\\n보통 이런 ...   \n",
       "1        평상시에 LF푸드 제품을 좋아해요.\\n한식 종류가 안나오는게 늘 아쉽긴했는데\\n이번...   \n",
       "2                                      맛있어요 ㅎㅎ 재구매 할려구요 ㅎㅎ   \n",
       "3        개봉후 냄비에 부으니 기름 덩어리 분리되어 있으니 걷어내기 좋네요\\n물 조금 더 추...   \n",
       "4        후기좋아서 사봤는데 정말 고기가 듬뿍들었고 팍팍하지않고 부들부들하며 고소해요\\n근데...   \n",
       "...                                                    ...   \n",
       "1581412                       다른 브랜드랑 비교해보려고 샀어요 맛있길 기대합니다   \n",
       "1581413                                      맛있어서 자주 구매해요ㆍ   \n",
       "1581414                         너무맛있어요 고기도 질기지않고 아이들 먹기좋아요   \n",
       "1581415                                   갈비탕중 최고예요 맛있어요     \n",
       "1581416                                  갈비탕중 최고 입니다         \n",
       "\n",
       "                                            cleaned_review  \n",
       "0        양곰탕 맛집에서 먹는 것보다 맛있어서 몇개 더 쟁였어요\\n\\n맛\\n보통 이런 냉동 ...  \n",
       "1        평상시에 LF푸드 제품을 좋아해요\\n한식 종류가 안나오는게 늘 아쉽긴했는데\\n이번에...  \n",
       "2                                          맛있어요  재구매 할려구요   \n",
       "3        개봉후 냄비에 부으니 기름 덩어리 분리되어 있으니 걷어내기 좋네요\\n물 조금 더 추...  \n",
       "4        후기좋아서 사봤는데 정말 고기가 듬뿍들었고 팍팍하지않고 부들부들하며 고소해요\\n근데...  \n",
       "...                                                    ...  \n",
       "1581412                       다른 브랜드랑 비교해보려고 샀어요 맛있길 기대합니다  \n",
       "1581413                                      맛있어서 자주 구매해요ㆍ  \n",
       "1581414                         너무맛있어요 고기도 질기지않고 아이들 먹기좋아요  \n",
       "1581415                                   갈비탕중 최고예요 맛있어요    \n",
       "1581416                                  갈비탕중 최고 입니다        \n",
       "\n",
       "[1577405 rows x 6 columns]"
      ]
     },
     "execution_count": 20,
     "metadata": {},
     "output_type": "execute_result"
    }
   ],
   "source": [
    "df['cleaned_review'] = df['review'].apply(clean_text)\n",
    "df"
   ]
  },
  {
   "cell_type": "markdown",
   "id": "7e03d237",
   "metadata": {},
   "source": [
    "### `product_type` 전처리\n",
    "\n",
    "\n",
    "- 1000166234 ['인삼품은 소꼬리곰탕' '인삼품은 꼬리곰탕'] -> 인삼품은 꼬리곰탕\n",
    "- 1000325147 ['거대떡곰탕' '떡곰탕'] -> 떡곰탕\n",
    "- 1000015143 ['무항생제 요리용 사골곰국' '요리용 사골곰국'] -> 무항생제 요리용 사골곰국\n",
    "- 1000134525 ['황태해장국 700g' '황태해장국'] -> 황태해장국 700g\n",
    "- 5152913 ['근대 된장국 700g' '근대 된장국'] -> 근대 된장국 700g\n",
    "- 5152914 ['시래기 된장국 700g' '시래기 된장국'] -> 시래기 된장국 700g\n",
    "- 5152911 ['소고기 미역국 700g' '소고기 미역국'] -> 소고기 미역국 700g\n",
    "- 1000134482 ['건새우 아욱국 700g' '건새우 아욱국'] -> 건새우 아욱국 700g\n",
    "- 1000134480 ['비지찌개 700g' '비지찌개'] -> 비지찌개 700g\n",
    "- 5030630 ['소고기버섯전골' '소고기 버섯 전골'] -> 소고기 버섯 전골\n",
    "- 5063932 ['고기듬뿍 아롱사태 곰탕' '아롱사태 사골곰탕'] -> 고기듬뿍 아롱사태 곰탕\n",
    "- 5064024 ['키즈 곰국 (5개입)' '무항생제 키즈 곰국 (5개입)'] -> 키즈 곰국 (5개입)\n",
    "- 5070615 ['소곱창전골' '더진한 소곱창전골'] -> 소곱창전골\n",
    "- 5119615 ['금돼지식당 김치찌개' '금돼지식당 통삼겹김치찌개' '금돼지식당 통삽겹김치찌개'] -> 금돼지식당 김치찌개\n",
    "- 5061835 ['사골만두칼국수' '사골 만두 칼국수'] -> 사골만두칼국수\n",
    "- 5128143 ['육개장' '육개장 (2인분)'] -> 육개장\n",
    "- 5011633 ['어린이 한우 사골 곰국' '앤쿡 어린이 한우 사골 곰국'] -> 어린이 한우 사골 곰국\n",
    "- 1000071857 ['특설렁탕' '양지설렁탕 (냉동)' '양지설렁탕(냉동)' '특 설렁탕 (냉동)' '특설렁탕 (냉동)' '특 설렁탕'] -> 양지설렁탕 (냉동)\n",
    "- 1000071859 ['양지곰탕 (냉동)' '특양지곰탕' '특 양지곰탕 (냉동)' '특양지곰탕 (냉동)' '특 양지곰탕'] -> 양지곰탕 (냉동)\n",
    "- 5070616 ['더진한 부대찌개' '더진한 한우사골 부대찌개' '더진한 부대찌개 (리뉴얼)'] -> 더진한 부대찌개\n",
    "- 1000047929 ['김치 우동 어묵 전골 (리뉴얼)' '김치 우동 어묵 전골'] -> 김치 우동 어묵 전골 (리뉴얼)\n",
    "\n",
    "- 5110442 ['야채담은 소불고기 400g (냉동)' '사미헌 불고기/맑은곰탕 선물세트' '야채담은 소불고기'] -> 야채담은 소불고기 400g (냉동)\n",
    "- 5133142 ['육개장 500g' '미역국 500g' '소고기 장터국 500g' '소고기 장터국'] -> 소고기 장터국 500g\n",
    "\n",
    "- 1000128433 ['갈비탕 700g' '갈비탕 730g'] -> 갈비탕 730g\n",
    "- 1000128435 ['육개장 700g' '육개장 730g'] -> 육개장 730g"
   ]
  },
  {
   "cell_type": "code",
   "execution_count": null,
   "id": "1d6f2832",
   "metadata": {},
   "outputs": [],
   "source": [
    "cnt = 0\n",
    "\n",
    "for id in df['product_id'].unique():\n",
    "    종류 = df[df['product_id'] == id]['product_type']\n",
    "    if 종류.nunique() > 1:\n",
    "        print(id, 종류.unique())\n",
    "        cnt+=1\n",
    "        \n",
    "print(\"총 개수 :\", cnt)"
   ]
  },
  {
   "cell_type": "code",
   "execution_count": null,
   "id": "6aa4b816",
   "metadata": {},
   "outputs": [],
   "source": [
    "df.loc[df['product_id'] == 1000166234, 'product_type'] = \"인삼품은 꼬리곰탕\"\n",
    "df.loc[df['product_id'] == 1000325147, 'product_type'] = \"떡곰탕\"\n",
    "df.loc[df['product_id'] == 1000015143, 'product_type'] = \"무항생제 요리용 사골곰국\"\n",
    "df.loc[df['product_id'] == 1000134525, 'product_type'] = \"황태해장국 700g\"\n",
    "df.loc[df['product_id'] == 5152913, 'product_type'] = \"근대 된장국 700g\"\n",
    "df.loc[df['product_id'] == 5152914, 'product_type'] = \"시래기 된장국 700g\"\n",
    "df.loc[df['product_id'] == 5152911, 'product_type'] = \"소고기 미역국 700g\"\n",
    "df.loc[df['product_id'] == 1000134482, 'product_type'] = \"건새우 아우국 700g\"\n",
    "df.loc[df['product_id'] == 1000134480, 'product_type'] = \"비지찌개 700g\"\n",
    "df.loc[df['product_id'] == 5030630, 'product_type'] = \"소고기 버섯 전골\"\n",
    "df.loc[df['product_id'] == 5063932, 'product_type'] = \"고기듬뿍 아롱사태 곰탕\"\n",
    "df.loc[df['product_id'] == 5064024, 'product_type'] = \"키즈 곰국 (5개입)\"\n",
    "df.loc[df['product_id'] == 5070615, 'product_type'] = \"소곱창전골\"\n",
    "df.loc[df['product_id'] == 5119615, 'product_type'] = \"금돼지식당 김치찌개\"\n",
    "df.loc[df['product_id'] == 5061835, 'product_type'] = \"사골만두칼국수\"\n",
    "df.loc[df['product_id'] == 5128143, 'product_type'] = \"육개장\"\n",
    "df.loc[df['product_id'] == 5011633, 'product_type'] = \"어린이 한우 사골 곰국\"\n",
    "df.loc[df['product_id'] == 1000071857, 'product_type'] = \"양지설렁탕 (냉동)\"\n",
    "df.loc[df['product_id'] == 1000071859, 'product_type'] = \"양지곰탕 (냉동)\"\n",
    "df.loc[df['product_id'] == 5070616, 'product_type'] = \"더진한 부대찌개\"\n",
    "df.loc[df['product_id'] == 1000047929, 'product_type'] = \"김치 우동 어묵 전골 (리뉴얼)\"\n",
    "\n",
    "df.loc[(df['product_id'] == 5110442) & (df['product_type'] == '야채담은 소불고기'), 'product_type'] = \"야채담은 소불고기 400g (냉동)\"\n",
    "df.loc[(df['product_id'] == 5133142) & (df['product_type'] == '소고기 장터국'), 'product_type'] = \"소고기 장터국 500g\"\n",
    "\n",
    "df.loc[df['product_id'] == 1000128433, 'product_type'] = \"갈비탕 730g\"\n",
    "df.loc[df['product_id'] == 1000128435, 'product_type'] = \"육개장 730g\""
   ]
  },
  {
   "cell_type": "code",
   "execution_count": null,
   "id": "2ea974d8",
   "metadata": {},
   "outputs": [],
   "source": [
    "cnt = 0\n",
    "\n",
    "for id in df['product_id'].unique():\n",
    "    종류 = df[df['product_id'] == id]['product_type']\n",
    "    if 종류.nunique() > 1:\n",
    "        print(id, 종류.unique())\n",
    "        cnt+=1\n",
    "        \n",
    "print(\"총 개수 :\", cnt)"
   ]
  },
  {
   "cell_type": "code",
   "execution_count": null,
   "id": "3b6303ce",
   "metadata": {},
   "outputs": [],
   "source": []
  },
  {
   "cell_type": "markdown",
   "id": "a2ce6014",
   "metadata": {},
   "source": [
    "### 맞춤법 + 띄어쓰기 교정\n",
    "\n",
    "#### ver1) 형태소 분석기 kiwipiepy \n",
    "\n",
    "- 출처 : https://zzgrworkspace.tistory.com/97"
   ]
  },
  {
   "cell_type": "code",
   "execution_count": null,
   "id": "7a870862",
   "metadata": {},
   "outputs": [],
   "source": [
    "from kiwipiepy import Kiwi"
   ]
  },
  {
   "cell_type": "code",
   "execution_count": null,
   "id": "7d3bbd9d",
   "metadata": {},
   "outputs": [],
   "source": [
    "def space_correct(text) : \n",
    "    corrected_text = kiwi.space(text)\n",
    "    return corrected_text\n",
    "\n",
    "df['cleaned_Kiwi_review'] = df['cleaned_review'].apply(space_correct)"
   ]
  },
  {
   "cell_type": "code",
   "execution_count": 25,
   "id": "b963ec86",
   "metadata": {},
   "outputs": [
    {
     "data": {
      "text/html": [
       "<div>\n",
       "<style scoped>\n",
       "    .dataframe tbody tr th:only-of-type {\n",
       "        vertical-align: middle;\n",
       "    }\n",
       "\n",
       "    .dataframe tbody tr th {\n",
       "        vertical-align: top;\n",
       "    }\n",
       "\n",
       "    .dataframe thead th {\n",
       "        text-align: right;\n",
       "    }\n",
       "</style>\n",
       "<table border=\"1\" class=\"dataframe\">\n",
       "  <thead>\n",
       "    <tr style=\"text-align: right;\">\n",
       "      <th></th>\n",
       "      <th>product_id</th>\n",
       "      <th>product_type</th>\n",
       "      <th>date</th>\n",
       "      <th>help_num</th>\n",
       "      <th>review</th>\n",
       "      <th>cleaned_review</th>\n",
       "      <th>cleaned_Kiwi_review</th>\n",
       "    </tr>\n",
       "  </thead>\n",
       "  <tbody>\n",
       "    <tr>\n",
       "      <th>0</th>\n",
       "      <td>1000498619</td>\n",
       "      <td>양곰탕</td>\n",
       "      <td>2024-05-26</td>\n",
       "      <td>1</td>\n",
       "      <td>양곰탕 맛집에서 먹는 것보다 맛있어서 몇개 더 쟁였어요!\\n\\n[맛]\\n보통 이런 ...</td>\n",
       "      <td>양곰탕 맛집에서 먹는 것보다 맛있어서 몇개 더 쟁였어요\\n\\n맛\\n보통 이런 냉동 ...</td>\n",
       "      <td>양 곰탕 맛 집에서 먹는 것보다 맛있어서 몇 개 더 쟁였어요\\n\\n맛\\n보통 이런 ...</td>\n",
       "    </tr>\n",
       "    <tr>\n",
       "      <th>1</th>\n",
       "      <td>1000498619</td>\n",
       "      <td>양곰탕</td>\n",
       "      <td>2024-05-25</td>\n",
       "      <td>2</td>\n",
       "      <td>평상시에 LF푸드 제품을 좋아해요.\\n한식 종류가 안나오는게 늘 아쉽긴했는데\\n이번...</td>\n",
       "      <td>평상시에 LF푸드 제품을 좋아해요\\n한식 종류가 안나오는게 늘 아쉽긴했는데\\n이번에...</td>\n",
       "      <td>평상시에 LF 푸드 제품을 좋아해요\\n한식 종류가 안 나오는 게 늘 아쉽긴했는데\\n...</td>\n",
       "    </tr>\n",
       "    <tr>\n",
       "      <th>2</th>\n",
       "      <td>1000498619</td>\n",
       "      <td>양곰탕</td>\n",
       "      <td>2024-08-22</td>\n",
       "      <td>0</td>\n",
       "      <td>맛있어요 ㅎㅎ 재구매 할려구요 ㅎㅎ</td>\n",
       "      <td>맛있어요  재구매 할려구요</td>\n",
       "      <td>맛있어요  재구매 할려구요</td>\n",
       "    </tr>\n",
       "    <tr>\n",
       "      <th>3</th>\n",
       "      <td>1000498619</td>\n",
       "      <td>양곰탕</td>\n",
       "      <td>2024-08-22</td>\n",
       "      <td>0</td>\n",
       "      <td>개봉후 냄비에 부으니 기름 덩어리 분리되어 있으니 걷어내기 좋네요\\n물 조금 더 추...</td>\n",
       "      <td>개봉후 냄비에 부으니 기름 덩어리 분리되어 있으니 걷어내기 좋네요\\n물 조금 더 추...</td>\n",
       "      <td>개봉 후 냄비에 부으니 기름 덩어리 분리되어 있으니 걷어 내기 좋네요\\n물 조금 더...</td>\n",
       "    </tr>\n",
       "    <tr>\n",
       "      <th>4</th>\n",
       "      <td>1000498619</td>\n",
       "      <td>양곰탕</td>\n",
       "      <td>2024-08-15</td>\n",
       "      <td>0</td>\n",
       "      <td>후기좋아서 사봤는데 정말 고기가 듬뿍들었고 팍팍하지않고 부들부들하며 고소해요\\n근데...</td>\n",
       "      <td>후기좋아서 사봤는데 정말 고기가 듬뿍들었고 팍팍하지않고 부들부들하며 고소해요\\n근데...</td>\n",
       "      <td>후기 좋아서 사 봤는데 정말 고기가 듬뿍 들었고 팍팍하지 않고 부들부들하며 고소해요...</td>\n",
       "    </tr>\n",
       "    <tr>\n",
       "      <th>...</th>\n",
       "      <td>...</td>\n",
       "      <td>...</td>\n",
       "      <td>...</td>\n",
       "      <td>...</td>\n",
       "      <td>...</td>\n",
       "      <td>...</td>\n",
       "      <td>...</td>\n",
       "    </tr>\n",
       "    <tr>\n",
       "      <th>1581412</th>\n",
       "      <td>5026468</td>\n",
       "      <td>갈비탕</td>\n",
       "      <td>2022-11-27</td>\n",
       "      <td>0</td>\n",
       "      <td>다른 브랜드랑 비교해보려고 샀어요 맛있길 기대합니다</td>\n",
       "      <td>다른 브랜드랑 비교해보려고 샀어요 맛있길 기대합니다</td>\n",
       "      <td>다른 브랜드랑 비교해 보려고 샀어요 맛있길 기대합니다</td>\n",
       "    </tr>\n",
       "    <tr>\n",
       "      <th>1581413</th>\n",
       "      <td>5026468</td>\n",
       "      <td>갈비탕</td>\n",
       "      <td>2022-11-27</td>\n",
       "      <td>0</td>\n",
       "      <td>맛있어서 자주 구매해요ㆍ</td>\n",
       "      <td>맛있어서 자주 구매해요ㆍ</td>\n",
       "      <td>맛있어서 자주 구매해요 ㆍ</td>\n",
       "    </tr>\n",
       "    <tr>\n",
       "      <th>1581414</th>\n",
       "      <td>5026468</td>\n",
       "      <td>갈비탕</td>\n",
       "      <td>2022-11-27</td>\n",
       "      <td>0</td>\n",
       "      <td>너무맛있어요 고기도 질기지않고 아이들 먹기좋아요</td>\n",
       "      <td>너무맛있어요 고기도 질기지않고 아이들 먹기좋아요</td>\n",
       "      <td>너무 맛있어요 고기도 질기지 않고 아이들 먹기 좋아요</td>\n",
       "    </tr>\n",
       "    <tr>\n",
       "      <th>1581415</th>\n",
       "      <td>5026468</td>\n",
       "      <td>갈비탕</td>\n",
       "      <td>2022-11-27</td>\n",
       "      <td>0</td>\n",
       "      <td>갈비탕중 최고예요 맛있어요</td>\n",
       "      <td>갈비탕중 최고예요 맛있어요</td>\n",
       "      <td>갈비탕 중 최고예요 맛있어요</td>\n",
       "    </tr>\n",
       "    <tr>\n",
       "      <th>1581416</th>\n",
       "      <td>5026468</td>\n",
       "      <td>갈비탕</td>\n",
       "      <td>2022-11-27</td>\n",
       "      <td>0</td>\n",
       "      <td>갈비탕중 최고 입니다</td>\n",
       "      <td>갈비탕중 최고 입니다</td>\n",
       "      <td>갈비탕 중 최고 입니다</td>\n",
       "    </tr>\n",
       "  </tbody>\n",
       "</table>\n",
       "<p>1577405 rows × 7 columns</p>\n",
       "</div>"
      ],
      "text/plain": [
       "         product_id product_type        date  help_num  \\\n",
       "0        1000498619          양곰탕  2024-05-26         1   \n",
       "1        1000498619          양곰탕  2024-05-25         2   \n",
       "2        1000498619          양곰탕  2024-08-22         0   \n",
       "3        1000498619          양곰탕  2024-08-22         0   \n",
       "4        1000498619          양곰탕  2024-08-15         0   \n",
       "...             ...          ...         ...       ...   \n",
       "1581412     5026468          갈비탕  2022-11-27         0   \n",
       "1581413     5026468          갈비탕  2022-11-27         0   \n",
       "1581414     5026468          갈비탕  2022-11-27         0   \n",
       "1581415     5026468          갈비탕  2022-11-27         0   \n",
       "1581416     5026468          갈비탕  2022-11-27         0   \n",
       "\n",
       "                                                    review  \\\n",
       "0        양곰탕 맛집에서 먹는 것보다 맛있어서 몇개 더 쟁였어요!\\n\\n[맛]\\n보통 이런 ...   \n",
       "1        평상시에 LF푸드 제품을 좋아해요.\\n한식 종류가 안나오는게 늘 아쉽긴했는데\\n이번...   \n",
       "2                                      맛있어요 ㅎㅎ 재구매 할려구요 ㅎㅎ   \n",
       "3        개봉후 냄비에 부으니 기름 덩어리 분리되어 있으니 걷어내기 좋네요\\n물 조금 더 추...   \n",
       "4        후기좋아서 사봤는데 정말 고기가 듬뿍들었고 팍팍하지않고 부들부들하며 고소해요\\n근데...   \n",
       "...                                                    ...   \n",
       "1581412                       다른 브랜드랑 비교해보려고 샀어요 맛있길 기대합니다   \n",
       "1581413                                      맛있어서 자주 구매해요ㆍ   \n",
       "1581414                         너무맛있어요 고기도 질기지않고 아이들 먹기좋아요   \n",
       "1581415                                   갈비탕중 최고예요 맛있어요     \n",
       "1581416                                  갈비탕중 최고 입니다         \n",
       "\n",
       "                                            cleaned_review  \\\n",
       "0        양곰탕 맛집에서 먹는 것보다 맛있어서 몇개 더 쟁였어요\\n\\n맛\\n보통 이런 냉동 ...   \n",
       "1        평상시에 LF푸드 제품을 좋아해요\\n한식 종류가 안나오는게 늘 아쉽긴했는데\\n이번에...   \n",
       "2                                          맛있어요  재구매 할려구요    \n",
       "3        개봉후 냄비에 부으니 기름 덩어리 분리되어 있으니 걷어내기 좋네요\\n물 조금 더 추...   \n",
       "4        후기좋아서 사봤는데 정말 고기가 듬뿍들었고 팍팍하지않고 부들부들하며 고소해요\\n근데...   \n",
       "...                                                    ...   \n",
       "1581412                       다른 브랜드랑 비교해보려고 샀어요 맛있길 기대합니다   \n",
       "1581413                                      맛있어서 자주 구매해요ㆍ   \n",
       "1581414                         너무맛있어요 고기도 질기지않고 아이들 먹기좋아요   \n",
       "1581415                                   갈비탕중 최고예요 맛있어요     \n",
       "1581416                                  갈비탕중 최고 입니다         \n",
       "\n",
       "                                       cleaned_Kiwi_review  \n",
       "0        양 곰탕 맛 집에서 먹는 것보다 맛있어서 몇 개 더 쟁였어요\\n\\n맛\\n보통 이런 ...  \n",
       "1        평상시에 LF 푸드 제품을 좋아해요\\n한식 종류가 안 나오는 게 늘 아쉽긴했는데\\n...  \n",
       "2                                          맛있어요  재구매 할려구요   \n",
       "3        개봉 후 냄비에 부으니 기름 덩어리 분리되어 있으니 걷어 내기 좋네요\\n물 조금 더...  \n",
       "4        후기 좋아서 사 봤는데 정말 고기가 듬뿍 들었고 팍팍하지 않고 부들부들하며 고소해요...  \n",
       "...                                                    ...  \n",
       "1581412                      다른 브랜드랑 비교해 보려고 샀어요 맛있길 기대합니다  \n",
       "1581413                                     맛있어서 자주 구매해요 ㆍ  \n",
       "1581414                      너무 맛있어요 고기도 질기지 않고 아이들 먹기 좋아요  \n",
       "1581415                                  갈비탕 중 최고예요 맛있어요    \n",
       "1581416                                 갈비탕 중 최고 입니다        \n",
       "\n",
       "[1577405 rows x 7 columns]"
      ]
     },
     "execution_count": 25,
     "metadata": {},
     "output_type": "execute_result"
    }
   ],
   "source": [
    "df"
   ]
  },
  {
   "cell_type": "code",
   "execution_count": null,
   "id": "bb33ee79",
   "metadata": {},
   "outputs": [],
   "source": [
    "df.to_csv('전처리_kiwi.csv', index=False)"
   ]
  },
  {
   "cell_type": "markdown",
   "id": "c80cc47a",
   "metadata": {},
   "source": [
    "#### ver2) 개인 개발자분이 구현하신 모델\n",
    "\n",
    "- 출처 : https://velog.io/@acdongpgm/NLP-%ED%95%9C%EA%B5%AD%EC%96%B4-%EA%B5%AC%EC%96%B4%EC%B2%B4%EB%8C%80%ED%99%94%EC%B2%B4-%EB%A7%9E%EC%B6%A4%EB%B2%95-%EA%B5%90%EC%A0%95%EA%B8%B0Korean-typos-corrector-ET5-Text2Text-Generation#%ED%95%9C%EA%B5%AD%EC%96%B4-%EB%A7%9E%EC%B6%A4%EB%B2%95-%EA%B5%90%EC%A0%95%EA%B8%B0\n",
    "- ETRI-et5 모델을 기반으로 fine-tuning한 한국어 구어체 전용 맞춤법 교정기"
   ]
  },
  {
   "cell_type": "code",
   "execution_count": null,
   "id": "78f1b8c5",
   "metadata": {},
   "outputs": [],
   "source": [
    "import torch\n",
    "from transformers import T5ForConditionalGeneration, T5Tokenizer, pipeline\n",
    "\n",
    "model = T5ForConditionalGeneration.from_pretrained('j5ng/et5-typos-corrector')\n",
    "tokenizer = T5Tokenizer.from_pretrained('j5ng/et5-typos-corrector')\n",
    "\n",
    "typos_corrector = pipeline(\n",
    "    \"text2text-generation\",\n",
    "    model=model,\n",
    "    tokenizer=tokenizer,\n",
    "    device=0 if torch.cuda.is_available() else -1,\n",
    "    framework=\"pt\",\n",
    ")"
   ]
  },
  {
   "cell_type": "code",
   "execution_count": null,
   "id": "718c3057",
   "metadata": {},
   "outputs": [],
   "source": [
    "output= []\n",
    "\n",
    "for i in df['cleaned_review']:\n",
    "    output.append(typos_corrector(\"맞춤법을 고쳐주세요: \" + i,\n",
    "            max_length=128,\n",
    "            num_beams=5,\n",
    "            early_stopping=True)[0]['generated_text'])\n",
    "\n",
    "output"
   ]
  },
  {
   "cell_type": "code",
   "execution_count": 33,
   "id": "109e4806",
   "metadata": {},
   "outputs": [
    {
     "data": {
      "text/plain": [
       "32118"
      ]
     },
     "execution_count": 33,
     "metadata": {},
     "output_type": "execute_result"
    }
   ],
   "source": [
    "len(output)"
   ]
  },
  {
   "cell_type": "code",
   "execution_count": 34,
   "id": "fea8e56a",
   "metadata": {},
   "outputs": [
    {
     "data": {
      "text/html": [
       "<div>\n",
       "<style scoped>\n",
       "    .dataframe tbody tr th:only-of-type {\n",
       "        vertical-align: middle;\n",
       "    }\n",
       "\n",
       "    .dataframe tbody tr th {\n",
       "        vertical-align: top;\n",
       "    }\n",
       "\n",
       "    .dataframe thead th {\n",
       "        text-align: right;\n",
       "    }\n",
       "</style>\n",
       "<table border=\"1\" class=\"dataframe\">\n",
       "  <thead>\n",
       "    <tr style=\"text-align: right;\">\n",
       "      <th></th>\n",
       "      <th>번역</th>\n",
       "    </tr>\n",
       "  </thead>\n",
       "  <tbody>\n",
       "    <tr>\n",
       "      <th>0</th>\n",
       "      <td>양곰탕 맛집에서 먹는 것보다 맛있어서 몇 개 더 쟁였어요 맛 보통 이런 냉동 한식 ...</td>\n",
       "    </tr>\n",
       "    <tr>\n",
       "      <th>1</th>\n",
       "      <td>평상시에 Lf 푸드 제품을 좋아해요 한식 종류가 하나도 없이 데우면 끝 냉동실에 넣...</td>\n",
       "    </tr>\n",
       "    <tr>\n",
       "      <th>2</th>\n",
       "      <td>맛있어요 재구매하려고요.</td>\n",
       "    </tr>\n",
       "    <tr>\n",
       "      <th>3</th>\n",
       "      <td>개봉 후 냄비에 부으니 기름 덩어리 분리되어 있으니 걷어 내기 좋네요 물 조금 더 ...</td>\n",
       "    </tr>\n",
       "    <tr>\n",
       "      <th>4</th>\n",
       "      <td>후기 좋아서 사 봤는데 정말 고기가 듬뿍 들었고 팍팍하지 않고 부들부들하며 고소해요...</td>\n",
       "    </tr>\n",
       "    <tr>\n",
       "      <th>...</th>\n",
       "      <td>...</td>\n",
       "    </tr>\n",
       "    <tr>\n",
       "      <th>32113</th>\n",
       "      <td>소반옥 왕갈비탕 국물 맛은 괜찮습니다 갈비 크기는 글자처럼 왕입니다 붙어있는 고기는...</td>\n",
       "    </tr>\n",
       "    <tr>\n",
       "      <th>32114</th>\n",
       "      <td>고기가 연하고 고소해요 국물이 깊고 진해요.</td>\n",
       "    </tr>\n",
       "    <tr>\n",
       "      <th>32115</th>\n",
       "      <td>국물 맛 미쳤어요 맛남.</td>\n",
       "    </tr>\n",
       "    <tr>\n",
       "      <th>32116</th>\n",
       "      <td>세일할 때 쟁여 두는 아이템이요.</td>\n",
       "    </tr>\n",
       "    <tr>\n",
       "      <th>32117</th>\n",
       "      <td>갈비탕이 맛있어서 밑반찬이 없어도 됩니다 조금 짠 듯하니 물을 소량 넣어주면 굿굿.</td>\n",
       "    </tr>\n",
       "  </tbody>\n",
       "</table>\n",
       "<p>32118 rows × 1 columns</p>\n",
       "</div>"
      ],
      "text/plain": [
       "                                                      번역\n",
       "0      양곰탕 맛집에서 먹는 것보다 맛있어서 몇 개 더 쟁였어요 맛 보통 이런 냉동 한식 ...\n",
       "1      평상시에 Lf 푸드 제품을 좋아해요 한식 종류가 하나도 없이 데우면 끝 냉동실에 넣...\n",
       "2                                          맛있어요 재구매하려고요.\n",
       "3      개봉 후 냄비에 부으니 기름 덩어리 분리되어 있으니 걷어 내기 좋네요 물 조금 더 ...\n",
       "4      후기 좋아서 사 봤는데 정말 고기가 듬뿍 들었고 팍팍하지 않고 부들부들하며 고소해요...\n",
       "...                                                  ...\n",
       "32113  소반옥 왕갈비탕 국물 맛은 괜찮습니다 갈비 크기는 글자처럼 왕입니다 붙어있는 고기는...\n",
       "32114                           고기가 연하고 고소해요 국물이 깊고 진해요.\n",
       "32115                                      국물 맛 미쳤어요 맛남.\n",
       "32116                                 세일할 때 쟁여 두는 아이템이요.\n",
       "32117     갈비탕이 맛있어서 밑반찬이 없어도 됩니다 조금 짠 듯하니 물을 소량 넣어주면 굿굿.\n",
       "\n",
       "[32118 rows x 1 columns]"
      ]
     },
     "execution_count": 34,
     "metadata": {},
     "output_type": "execute_result"
    }
   ],
   "source": [
    "out = pd.DataFrame(output, columns=['번역'])\n",
    "out"
   ]
  },
  {
   "cell_type": "code",
   "execution_count": 36,
   "id": "0a46f00e",
   "metadata": {},
   "outputs": [
    {
     "data": {
      "text/html": [
       "<div>\n",
       "<style scoped>\n",
       "    .dataframe tbody tr th:only-of-type {\n",
       "        vertical-align: middle;\n",
       "    }\n",
       "\n",
       "    .dataframe tbody tr th {\n",
       "        vertical-align: top;\n",
       "    }\n",
       "\n",
       "    .dataframe thead th {\n",
       "        text-align: right;\n",
       "    }\n",
       "</style>\n",
       "<table border=\"1\" class=\"dataframe\">\n",
       "  <thead>\n",
       "    <tr style=\"text-align: right;\">\n",
       "      <th></th>\n",
       "      <th>번역</th>\n",
       "    </tr>\n",
       "  </thead>\n",
       "  <tbody>\n",
       "    <tr>\n",
       "      <th>32113</th>\n",
       "      <td>소반옥 왕갈비탕 국물 맛은 괜찮습니다 갈비 크기는 글자처럼 왕입니다 붙어있는 고기는...</td>\n",
       "    </tr>\n",
       "    <tr>\n",
       "      <th>32114</th>\n",
       "      <td>고기가 연하고 고소해요 국물이 깊고 진해요.</td>\n",
       "    </tr>\n",
       "    <tr>\n",
       "      <th>32115</th>\n",
       "      <td>국물 맛 미쳤어요 맛남.</td>\n",
       "    </tr>\n",
       "    <tr>\n",
       "      <th>32116</th>\n",
       "      <td>세일할 때 쟁여 두는 아이템이요.</td>\n",
       "    </tr>\n",
       "    <tr>\n",
       "      <th>32117</th>\n",
       "      <td>갈비탕이 맛있어서 밑반찬이 없어도 됩니다 조금 짠 듯하니 물을 소량 넣어주면 굿굿.</td>\n",
       "    </tr>\n",
       "  </tbody>\n",
       "</table>\n",
       "</div>"
      ],
      "text/plain": [
       "                                                      번역\n",
       "32113  소반옥 왕갈비탕 국물 맛은 괜찮습니다 갈비 크기는 글자처럼 왕입니다 붙어있는 고기는...\n",
       "32114                           고기가 연하고 고소해요 국물이 깊고 진해요.\n",
       "32115                                      국물 맛 미쳤어요 맛남.\n",
       "32116                                 세일할 때 쟁여 두는 아이템이요.\n",
       "32117     갈비탕이 맛있어서 밑반찬이 없어도 됩니다 조금 짠 듯하니 물을 소량 넣어주면 굿굿."
      ]
     },
     "execution_count": 36,
     "metadata": {},
     "output_type": "execute_result"
    }
   ],
   "source": [
    "out.tail()"
   ]
  },
  {
   "cell_type": "code",
   "execution_count": 35,
   "id": "53c905b4",
   "metadata": {},
   "outputs": [],
   "source": [
    "out.to_csv('전처리_모델사용_일부.csv', index=False)"
   ]
  },
  {
   "cell_type": "code",
   "execution_count": null,
   "id": "f658d07b",
   "metadata": {},
   "outputs": [],
   "source": []
  },
  {
   "cell_type": "code",
   "execution_count": null,
   "id": "aaa0698e",
   "metadata": {},
   "outputs": [],
   "source": []
  },
  {
   "cell_type": "code",
   "execution_count": null,
   "id": "00322cc1",
   "metadata": {},
   "outputs": [],
   "source": []
  },
  {
   "cell_type": "code",
   "execution_count": null,
   "id": "ee255bdc",
   "metadata": {},
   "outputs": [],
   "source": []
  },
  {
   "cell_type": "markdown",
   "id": "d491e9b4",
   "metadata": {},
   "source": [
    "### 맞춤법 + 띄어쓰기 교정 방법 탐색"
   ]
  },
  {
   "cell_type": "code",
   "execution_count": 94,
   "id": "33c4682a",
   "metadata": {
    "scrolled": true
   },
   "outputs": [
    {
     "data": {
      "text/plain": [
       "['맛있어요 ㅎㅎ 재구매 할려구요 ㅎㅎ',\n",
       " '갈비탕중 최고 입니다',\n",
       " '후기좋아서 사봤는데 정말 고기가 듬뿍들었고 팍팍하지않고 부들부들하며 고소해요',\n",
       " '건더기가 많고 실합니다\\n단백한국물도 좋아요',\n",
       " '할인좀 자주 했으면 합니다\\n맛있어요',\n",
       " '후기가..좋아서..시켜봤어요!\\n맛은..뭐,당연히..굿이겠쥬?\\n잘먹을께요!최고예유!',\n",
       " '딸램이 곰탕매니아인데요. 고기보다 맛있다며 잘 먹네요 ㅋㅋㅋ 좀 쟁여놔야겠어요~~',\n",
       " '어째 이려? 남편 나 없을때 먹게끔하려고 왕창 추가주문할랍니다\\n워메 건더기부터 다 맘에 들어부러',\n",
       " '밀키트가 맞어?? 라고 의심할 장도로 퀄리티가 높아서 깜짝 놀랐네요\\n냉동 제품 깐다고 포장 까는데 ㅋㅋ 고기 덩어리 그 잡채라서 너무 놀라서 어머 이건 후기 가야해 하면서 찍았어요 ㅋㅋㅋ\\n양도 고기가 가득가득 들어서 국물보다 건더기가 많았고 맛도 깊고 진해서 왠만한 전문점보다 맛있네요\\n외식하는 느낌이 들 정도로 밥 하나 말면 푸짐하고 훌륭합니다\\n첨에는 좀 가격이 비싸다 생각들었는데 제품 받아보니 요즘 어디가서 이 가격에 이걸 먹겠느 싶네요\\\\남편이 이거 너무 맛있다고 더 사다놔 달래요자기 혼자서 이걸로 밥 몇 끼는 더 먹을 수 있다고 ㅋㅋ',\n",
       " '신혼부부에게 필수템인 양곰탕 \\n냉동실에 뒀다가 바로 끓여먹으니\\n밥 할때 너무 편해요 맛도 너무 괜찮고요\\n\\n맛\\n건더기가 실 하게 들어서 진짜 깜짝 놀랬어요\\n이렇게 판매하는 국 제품 중 건더기 원탑인듯합니다\\n고기도 부드럽고 양 식감도 좋아요\\n저는 쪽파만 추가했는데 너무 괜찮더라고요\\n\\n양\\n양은 1인이 메인음식으로 먹거나 2인이 메인음식은 따로있고 국으로 먹기에 좋은 양이에요\\n\\n패키지와 포장상태\\n냉동제품인데 녹아오지 않았고 배송 후 2시간뒤 수령 패키지는 깔끔해요\\n\\n자취하시는분이나 신혼부부 추천드립니다']"
      ]
     },
     "execution_count": 94,
     "metadata": {},
     "output_type": "execute_result"
    }
   ],
   "source": [
    "# 예시 문장\n",
    "input_text = [\"맛있어요 ㅎㅎ 재구매 할려구요 ㅎㅎ\", \"갈비탕중 최고 입니다\", \"후기좋아서 사봤는데 정말 고기가 듬뿍들었고 팍팍하지않고 부들부들하며 고소해요\",\n",
    "             \"건더기가 많고 실합니다\\n단백한국물도 좋아요\", '할인좀 자주 했으면 합니다\\n맛있어요', \"후기가..좋아서..시켜봤어요!\\n맛은..뭐,당연히..굿이겠쥬?\\n잘먹을께요!최고예유!\",\n",
    "             \"딸램이 곰탕매니아인데요. 고기보다 맛있다며 잘 먹네요 ㅋㅋㅋ 좀 쟁여놔야겠어요~~\",\n",
    "             \"어째 이려? 남편 나 없을때 먹게끔하려고 왕창 추가주문할랍니다\\n워메 건더기부터 다 맘에 들어부러\",\n",
    "             \"밀키트가 맞어?? 라고 의심할 장도로 퀄리티가 높아서 깜짝 놀랐네요\\n냉동 제품 깐다고 포장 까는데 ㅋㅋ 고기 덩어리 그 잡채라서 너무 놀라서 어머 이건 후기 가야해 하면서 찍았어요 ㅋㅋㅋ\\n양도 고기가 가득가득 들어서 국물보다 건더기가 많았고 맛도 깊고 진해서 왠만한 전문점보다 맛있네요\\n외식하는 느낌이 들 정도로 밥 하나 말면 푸짐하고 훌륭합니다\\n첨에는 좀 가격이 비싸다 생각들었는데 제품 받아보니 요즘 어디가서 이 가격에 이걸 먹겠느 싶네요\\남편이 이거 너무 맛있다고 더 사다놔 달래요자기 혼자서 이걸로 밥 몇 끼는 더 먹을 수 있다고 ㅋㅋ\",\n",
    "              df.loc[69, 'cleaned_review']\n",
    "             ]\n",
    "input_text"
   ]
  },
  {
   "cell_type": "code",
   "execution_count": 120,
   "id": "b8665195",
   "metadata": {},
   "outputs": [
    {
     "data": {
      "text/plain": [
       "['맛있어요  재구매 할려구요 ',\n",
       " '갈비탕중 최고 입니다',\n",
       " '후기좋아서 사봤는데 정말 고기가 듬뿍들었고 팍팍하지않고 부들부들하며 고소해요',\n",
       " '건더기가 많고 실합니다\\n단백한국물도 좋아요',\n",
       " '할인좀 자주 했으면 합니다\\n맛있어요',\n",
       " '후기가좋아서시켜봤어요\\n맛은뭐당연히굿이겠쥬\\n잘먹을께요최고예유',\n",
       " '딸램이 곰탕매니아인데요 고기보다 맛있다며 잘 먹네요  좀 쟁여놔야겠어요',\n",
       " '어째 이려 남편 나 없을때 먹게끔하려고 왕창 추가주문할랍니다\\n워메 건더기부터 다 맘에 들어부러',\n",
       " '밀키트가 맞어 라고 의심할 장도로 퀄리티가 높아서 깜짝 놀랐네요\\n냉동 제품 깐다고 포장 까는데  고기 덩어리 그 잡채라서 너무 놀라서 어머 이건 후기 가야해 하면서 찍았어요 \\n양도 고기가 가득가득 들어서 국물보다 건더기가 많았고 맛도 깊고 진해서 왠만한 전문점보다 맛있네요\\n외식하는 느낌이 들 정도로 밥 하나 말면 푸짐하고 훌륭합니다\\n첨에는 좀 가격이 비싸다 생각들었는데 제품 받아보니 요즘 어디가서 이 가격에 이걸 먹겠느 싶네요남편이 이거 너무 맛있다고 더 사다놔 달래요자기 혼자서 이걸로 밥 몇 끼는 더 먹을 수 있다고 ',\n",
       " '신혼부부에게 필수템인 양곰탕 \\n냉동실에 뒀다가 바로 끓여먹으니\\n밥 할때 너무 편해요 맛도 너무 괜찮고요\\n\\n맛\\n건더기가 실 하게 들어서 진짜 깜짝 놀랬어요\\n이렇게 판매하는 국 제품 중 건더기 원탑인듯합니다\\n고기도 부드럽고 양 식감도 좋아요\\n저는 쪽파만 추가했는데 너무 괜찮더라고요\\n\\n양\\n양은 1인이 메인음식으로 먹거나 2인이 메인음식은 따로있고 국으로 먹기에 좋은 양이에요\\n\\n패키지와 포장상태\\n냉동제품인데 녹아오지 않았고 배송 후 2시간뒤 수령 패키지는 깔끔해요\\n\\n자취하시는분이나 신혼부부 추천드립니다']"
      ]
     },
     "execution_count": 120,
     "metadata": {},
     "output_type": "execute_result"
    }
   ],
   "source": [
    "cleaned = list(map(clean_text, input_text))\n",
    "cleaned"
   ]
  },
  {
   "cell_type": "markdown",
   "id": "10d8af02",
   "metadata": {},
   "source": [
    "#### 1) PyKoSpacing\n",
    "\n",
    "- 출처 :  https://wikidocs.net/92961"
   ]
  },
  {
   "cell_type": "code",
   "execution_count": 107,
   "id": "4fad609d",
   "metadata": {
    "scrolled": true
   },
   "outputs": [],
   "source": [
    "#!pip install git+https://github.com/haven-jeon/PyKoSpacing.git"
   ]
  },
  {
   "cell_type": "code",
   "execution_count": 122,
   "id": "b96c3b80",
   "metadata": {},
   "outputs": [
    {
     "data": {
      "text/plain": [
       "['맛있어요 재구매 할려구요',\n",
       " '갈비탕 중 최고 입니다',\n",
       " '후기 좋아서 사봤는데 정말 고기가 듬뿍 들었고 팍팍하지 않고 부들부들하며 고소해요',\n",
       " '건더기가 많고 실합니다 단백 한국물도 좋아요',\n",
       " '할인 좀 자주 했으면 합니다 맛있어요',\n",
       " '후기가 좋아서 시켜봤어요 맛은 뭐 당연히 굿이겠쥬 잘 먹을께 요 최고 예유',\n",
       " '딸 램이 곰탕 매니아인데요 고기보다 맛있다며 잘 먹네요 좀 쟁여놔야겠어요',\n",
       " '어째 이려 남편 나 없을 때 먹게끔 하려고 왕 창 추가 주문할랍니다 워메 건더기부터 다 맘에 들어 부러',\n",
       " '밀키트가 맞어 라고 의 심할 장도로 퀄리티가 높아서 깜짝 놀랐네요 냉동 제품 깐다고 포장 까는 데 고기 덩어리 그 잡채라서 너무 놀라서 어머 이건 후기 가야 해 하면서 찍았어요 양도 고기가 가득 가득 들어서 국물보다 건더기가 많았고 맛도 깊고 진해서 왠만한 전문점보다 맛있네요 외식하는 느낌이 들 정도로 밥 하나 말면 푸짐하고 훌륭합니다 첨에는 좀 가격이 비 싸다 생각들었는데 제품 받아보니 요즘 어디 가서 이 가격에 이걸 먹겠느 싶네요 남편이 이 거 너무 맛있다고 더 사다 놔 달래 요 자기 혼자서 이걸로 밥 몇 끼는 더 먹을 수 있다고',\n",
       " '신혼부부에게 필수템인 양곰탕 냉동실에 뒀다가 바로 끓여 먹으니 밥 할 때 너무 편해요 맛도 너무 괜찮고요 맛 건더기가 실 하게 들어서 진짜 깜짝 놀랬어요 이렇게 판매하는 국 제품 중 건더기 원탑인 듯합니다 고기도 부드럽고 양 식감도 좋아요 저는 쪽파만 추가했는데 너무 괜찮더라고 요 양 양은 1인이 메인 음식으로 먹거나 2인이 메인 음식은 따로 있고 국으로 먹기 에 좋은 양이에 요 패키지와 포장 상태 냉동제품인데 녹아오지 않았고 배송 후 2시간 뒤 수령 패키지는 깔끔해요 자취하시는 분이나 신혼부부 추천드립니다']"
      ]
     },
     "execution_count": 122,
     "metadata": {},
     "output_type": "execute_result"
    }
   ],
   "source": [
    "from pykospacing import Spacing\n",
    "\n",
    "pacing = Spacing()\n",
    "\n",
    "list(map(spacing, cleaned))"
   ]
  },
  {
   "cell_type": "markdown",
   "id": "0368d530",
   "metadata": {},
   "source": [
    "#### 2) konlpy 형태소 분석기 \n",
    "\n",
    "- 출처 : https://haru0229.tistory.com/57"
   ]
  },
  {
   "cell_type": "code",
   "execution_count": 117,
   "id": "20706c73",
   "metadata": {},
   "outputs": [],
   "source": [
    "from konlpy.tag import Komoran\n",
    "\n",
    "han = Komoran()\n",
    "\n",
    "def han으로(text):\n",
    "    result = han.pos(text)\n",
    "    return \" \".join([token[0] for token in result])"
   ]
  },
  {
   "cell_type": "code",
   "execution_count": 118,
   "id": "ad51f7ea",
   "metadata": {},
   "outputs": [
    {
     "data": {
      "text/plain": [
       "['맛있 어요 재 구매 하 ㄹ려구 요',\n",
       " '갈비탕 중 최고 이 ㅂ니다',\n",
       " '후기 좋아서 사 아 보 았 는데 정말 고기 가 듬뿍 들 었 고 팍팍 하 지 않 고 부들부들 하 며 고소 하 어요',\n",
       " '건더기 가 많 고 실 하 ㅂ니다 단백 한국 물 도 좋 아요',\n",
       " '할인 좀 자주 하 았 으면 하 ㅂ니다 맛있 어요',\n",
       " '후 기가 좋아서 시키 어 보 았 어요 맛 은 뭐 당연히 굿 이 겠 쥬 잘 먹 을 께 요 최고 예 유',\n",
       " '딸 램 이 곰탕 매니아 이 ㄴ데요 고기 보다 맛있 다며 잘 먹 네요 좀 쟁여놔야겠어요',\n",
       " '어찌 하 아 일 려 남편 나 없 을 때 먹 게끔 하 려고 왕창 추가 주문 하 ㄹ랍니다 워메 건더기 부터 다 맘 에 들 ㄹ 어부 러',\n",
       " '밀 키트 가 맞 어 라고 의심 하 ㄹ 장도 로 퀄리티가 높 아서 깜짝 놀라 았 네요 냉동 제품 깔 ㄴ다고 포장 깔 는데 고기 덩어리 그 잡채 이 라서 너무 놀라 아서 어머 이건 후기 가 아야 하 아 하 면서 찍 았 어요 양도 고기 가 가득가득 들 어서 국물 보다 건더기 가 많 았 고 맛 도 깊 고 진하 아서 왜 ㄴ 만 하 ㄴ 전문점 보다 맛있 네요 외식 하 는 느낌 이 들 ㄹ 정도 로 밥 하나 말 면 푸짐 하 고 훌륭 하 ㅂ니다 첨 에 는 좀 가격 이 비싸 다 생각 들 었 는데 제품 받 아 보 니 요즘 어디 가 아서 이 가격 에 이거 ㄹ 먹 겠 느 싶 네요 남편 이 이것 너무 맛있 다고 더 사 다 놓 아 달래 요 자기 혼자 서 이 것 로 밥 몇 끼 는 더 먹 을 수 있 다고']"
      ]
     },
     "execution_count": 118,
     "metadata": {},
     "output_type": "execute_result"
    }
   ],
   "source": [
    "list(map(han으로, cleaned))"
   ]
  },
  {
   "cell_type": "code",
   "execution_count": 114,
   "id": "78f0dedf",
   "metadata": {},
   "outputs": [
    {
     "data": {
      "text/plain": [
       "[('한국어', 'NNP'),\n",
       " ('전', 'NNP'),\n",
       " ('처리', 'NNP'),\n",
       " ('는', 'JX'),\n",
       " ('어렵', 'VA'),\n",
       " ('지', 'EC'),\n",
       " ('않', 'VX'),\n",
       " ('아요', 'EC')]"
      ]
     },
     "execution_count": 114,
     "metadata": {},
     "output_type": "execute_result"
    }
   ],
   "source": [
    "han.pos(text)"
   ]
  },
  {
   "cell_type": "markdown",
   "id": "880a0698",
   "metadata": {},
   "source": [
    "#### 3) 형태소 분석기 kiwipiepy \n",
    "\n",
    "- 출처 : https://zzgrworkspace.tistory.com/97"
   ]
  },
  {
   "cell_type": "code",
   "execution_count": 45,
   "id": "8b76377b",
   "metadata": {},
   "outputs": [],
   "source": [
    "#!pip install kiwipiepy"
   ]
  },
  {
   "cell_type": "code",
   "execution_count": 21,
   "id": "8b9eb731",
   "metadata": {},
   "outputs": [],
   "source": [
    "from kiwipiepy import Kiwi\n",
    "\n",
    "kiwi = Kiwi()\n",
    "\n",
    "# 띄어쓰기 교정\n",
    "def space_correct(text) : \n",
    "    corrected_text = kiwi.space(text)\n",
    "    return corrected_text"
   ]
  },
  {
   "cell_type": "code",
   "execution_count": 83,
   "id": "3b2b5647",
   "metadata": {},
   "outputs": [
    {
     "data": {
      "text/plain": [
       "['맛있어요  재구매 할려구요 ',\n",
       " '갈비탕 중 최고 입니다',\n",
       " '후기 좋아서 사 봤는데 정말 고기가 듬뿍 들었고 팍팍하지 않고 부들부들하며 고소해요',\n",
       " '건더기가 많고 실합니다\\n단백한 국물도 좋아요',\n",
       " '할인 좀 자주 했으면합니다\\n맛있어요',\n",
       " '후기가 좋아서 시켜 봤어요\\n맛은 뭐 당연히 굿이겠쥬\\n잘 먹을께요 최고 예유',\n",
       " '딸 램이 곰탕 매니아인데요 고기보다 맛있다며 잘 먹네요  좀 쟁여 놔야겠어요',\n",
       " '어째 이려 남편 나 없을 때 먹게끔하려고 왕창 추가 주문할랍니다\\n워메 건더기부터 다 맘에 들어 부러',\n",
       " '밀 키트가 맞어 라고 의심할 장 도로 퀄리티가 높아서 깜짝 놀랐네요\\n냉동 제품 깐다고 포장 까는데  고기 덩어리 그 잡채라서 너무 놀라서 어머 이건 후기 가야해 하면서 찍았어요 \\n양도 고기가 가득가득 들어서 국물보다 건더기가 많았고 맛도 깊고 진해서 왠 만한 전문점보다 맛있네요\\n외식하는 느낌이 들 정도로 밥 하나 말면 푸짐하고 훌륭합니다\\n첨에는 좀 가격이 비싸다 생각 들었는데 제품 받아 보니 요즘 어디 가서 이 가격에 이걸 먹겠느 싶네요 남편이 이거 너무 맛있다고 더 사다 놔 달래요 자기 혼자서 이걸로 밥 몇 끼는 더 먹을 수 있다고 ']"
      ]
     },
     "execution_count": 83,
     "metadata": {},
     "output_type": "execute_result"
    }
   ],
   "source": [
    "list(map(correct_korean_text, cleaned))"
   ]
  },
  {
   "cell_type": "markdown",
   "id": "a766b9b4",
   "metadata": {},
   "source": [
    "#### 4) 개인 개발자분이 구현하신 모델\n",
    "\n",
    "- 출처 : https://velog.io/@acdongpgm/NLP-%ED%95%9C%EA%B5%AD%EC%96%B4-%EA%B5%AC%EC%96%B4%EC%B2%B4%EB%8C%80%ED%99%94%EC%B2%B4-%EB%A7%9E%EC%B6%A4%EB%B2%95-%EA%B5%90%EC%A0%95%EA%B8%B0Korean-typos-corrector-ET5-Text2Text-Generation#%ED%95%9C%EA%B5%AD%EC%96%B4-%EB%A7%9E%EC%B6%A4%EB%B2%95-%EA%B5%90%EC%A0%95%EA%B8%B0\n",
    "- ETRI-et5 모델을 기반으로 fine-tuning한 한국어 구어체 전용 맞춤법 교정기"
   ]
  },
  {
   "cell_type": "markdown",
   "id": "e3993b9e",
   "metadata": {},
   "source": [
    "- ver1"
   ]
  },
  {
   "cell_type": "code",
   "execution_count": 130,
   "id": "0a6dd4b3",
   "metadata": {},
   "outputs": [],
   "source": [
    "import torch\n",
    "from transformers import T5ForConditionalGeneration, T5Tokenizer\n",
    "\n",
    "# T5 모델 로드\n",
    "model_1 = T5ForConditionalGeneration.from_pretrained(\"j5ng/et5-typos-corrector\")\n",
    "tokenizer_1 = T5Tokenizer.from_pretrained(\"j5ng/et5-typos-corrector\")\n",
    "\n",
    "device = \"cuda:0\" if torch.cuda.is_available() else \"cpu\"\n",
    "model_1 = model_1.to(device) "
   ]
  },
  {
   "cell_type": "code",
   "execution_count": 132,
   "id": "65166d18",
   "metadata": {},
   "outputs": [
    {
     "data": {
      "text/plain": [
       "['맛있어요 재구매하려고요.',\n",
       " '갈비탕 중 최고입니다.',\n",
       " '후기 좋아서 사 봤는데 정말 고기가 듬뿍 들었고 팍팍하지 않고 부들부들하며 고소해요.',\n",
       " '건더기가 많고 실합니다 단백 한국물도 좋아요.',\n",
       " '할인 좀 자주 했으면 합니다 맛있어요.',\n",
       " '후기가 좋아서 시켜 봤어요 맛은 뭐 당연히 굿이겠죠 잘 먹을게요 최고예요.',\n",
       " '딸내미가 곰탕 마니아인데요 고기보다 맛있다며 잘 먹네요 좀 쟁여 놔야겠어요.',\n",
       " '어째 이려 남편 나 없을 때 먹게끔 하려고 왕창 추가 주문할랍니다 워메 건더기부터 다 맘에 들어버려.',\n",
       " '밀키트가 맞는다고 의심할 장도로 퀄리티가 높아서 깜짝 놀랐네요 냉동 제품 까는데 고기 덩어리 그 잡채라서 너무 놀라서 어머 이건 후기 가야 해 하면서 찍었어요 양도 고기가 가득가득 들어서 국물보다 건더기가 많았고 맛도 깊고 진해서 웬만한 전문점보다 맛있네요 외식하는 느낌이 들 정도로 밥 하나 말면 푸짐하고 훌륭합니다 첨에는 좀 가격이 비싸다 생각 들었는데 제품 받아 보니 요즘 어디 가서 이 가격에 이걸 먹겠나 싶네요 남편이 이거 너무 맛있다고 더 사다 놔 달래요 자기 혼자서 이거로 밥 몇 끼는 더 먹을 수 있다고.',\n",
       " '신혼부부에게 필수템인 양곰탕 냉동실에 뒀다가 바로 끓여 먹으니 밥할 때 너무 편해요 맛도 너무 괜찮고요 맛 건더기가 실하게 들어서 진짜 깜짝 놀랐어요 이렇게 판매하는 국 제품 중 건더기 원 톱인 듯합니다 고기도 부드럽고 양 식감도 좋아요 저는 쪽파만 추가했는데 너무 괜찮더라고요 양 양은 1인이 메인 음식으로 먹거나 2인이 메인 음식은 따로 있고 국으로 먹기에 좋은 양이에요 패키지와 포장 상태 냉동 제품인데 녹아오지 않았고 배송 후 2시간 뒤 수령 패키지는 깔끔해요 자취하시는 분이나 신혼부부 추천드립니다.']"
      ]
     },
     "execution_count": 132,
     "metadata": {},
     "output_type": "execute_result"
    }
   ],
   "source": [
    "output = []\n",
    "for i in cleaned:\n",
    "    input_encoding = tokenizer_1(\"맞춤법을 고쳐주세요: \" + i, return_tensors=\"pt\")\n",
    "\n",
    "    input_ids = input_encoding.input_ids.to(device)\n",
    "    attention_mask = input_encoding.attention_mask.to(device)\n",
    "\n",
    "    # T5 모델 출력 생성\n",
    "    output_encoding = model_1.generate(\n",
    "        input_ids=input_ids,\n",
    "        attention_mask=attention_mask,\n",
    "        max_length=128,\n",
    "        num_beams=5,\n",
    "        early_stopping=True,\n",
    "    )\n",
    "\n",
    "    # 출력 문장 디코딩\n",
    "    output.append(tokenizer_1.decode(output_encoding[0], skip_special_tokens=True))\n",
    "\n",
    "output"
   ]
  },
  {
   "cell_type": "markdown",
   "id": "00282823",
   "metadata": {},
   "source": [
    "- ver2"
   ]
  },
  {
   "cell_type": "code",
   "execution_count": 27,
   "id": "09e36492",
   "metadata": {},
   "outputs": [
    {
     "name": "stderr",
     "output_type": "stream",
     "text": [
      "You are using the default legacy behaviour of the <class 'transformers.models.t5.tokenization_t5.T5Tokenizer'>. This is expected, and simply means that the `legacy` (previous) behavior will be used so nothing changes for you. If you want to use the new behaviour, set `legacy=False`. This should only be set if you understand what it means, and thoroughly read the reason why this was added as explained in https://github.com/huggingface/transformers/pull/24565\n"
     ]
    }
   ],
   "source": [
    "import torch\n",
    "from transformers import T5ForConditionalGeneration, T5Tokenizer, pipeline\n",
    "\n",
    "model = T5ForConditionalGeneration.from_pretrained('j5ng/et5-typos-corrector')\n",
    "tokenizer = T5Tokenizer.from_pretrained('j5ng/et5-typos-corrector')\n",
    "\n",
    "typos_corrector = pipeline(\n",
    "    \"text2text-generation\",\n",
    "    model=model,\n",
    "    tokenizer=tokenizer,\n",
    "    device=0 if torch.cuda.is_available() else -1,\n",
    "    framework=\"pt\",\n",
    ")"
   ]
  },
  {
   "cell_type": "code",
   "execution_count": 125,
   "id": "6c0b1d99",
   "metadata": {},
   "outputs": [
    {
     "name": "stdout",
     "output_type": "stream",
     "text": [
      "['맛있어요 재구매하려고요.', '갈비탕 중 최고입니다.', '후기 좋아서 사 봤는데 정말 고기가 듬뿍 들었고 팍팍하지 않고 부들부들하며 고소해요.', '건더기가 많고 실합니다 단백 한국물도 좋아요.', '할인 좀 자주 했으면 합니다 맛있어요.', '후기가 좋아서 시켜 봤어요 맛은 뭐 당연히 굿이겠죠 잘 먹을게요 최고예요.', '딸내미가 곰탕 마니아인데요 고기보다 맛있다며 잘 먹네요 좀 쟁여 놔야겠어요.', '어째 이려 남편 나 없을 때 먹게끔 하려고 왕창 추가 주문할랍니다 워메 건더기부터 다 맘에 들어버려.', '밀키트가 맞는다고 의심할 장도로 퀄리티가 높아서 깜짝 놀랐네요 냉동 제품 까는데 고기 덩어리 그 잡채라서 너무 놀라서 어머 이건 후기 가야 해 하면서 찍었어요 양도 고기가 가득가득 들어서 국물보다 건더기가 많았고 맛도 깊고 진해서 웬만한 전문점보다 맛있네요 외식하는 느낌이 들 정도로 밥 하나 말면 푸짐하고 훌륭합니다 첨에는 좀 가격이 비싸다 생각 들었는데 제품 받아 보니 요즘 어디 가서 이 가격에 이걸 먹겠나 싶네요 남편이 이거 너무 맛있다고 더 사다 놔 달래요 자기 혼자서 이거로 밥 몇 끼는 더 먹을 수 있다고.', '신혼부부에게 필수템인 양곰탕 냉동실에 뒀다가 바로 끓여 먹으니 밥할 때 너무 편해요 맛도 너무 괜찮고요 맛 건더기가 실하게 들어서 진짜 깜짝 놀랐어요 이렇게 판매하는 국 제품 중 건더기 원 톱인 듯합니다 고기도 부드럽고 양 식감도 좋아요 저는 쪽파만 추가했는데 너무 괜찮더라고요 양 양은 1인이 메인 음식으로 먹거나 2인이 메인 음식은 따로 있고 국으로 먹기에 좋은 양이에요 패키지와 포장 상태 냉동 제품인데 녹아오지 않았고 배송 후 2시간 뒤 수령 패키지는 깔끔해요 자취하시는 분이나 신혼부부 추천드립니다.']\n"
     ]
    }
   ],
   "source": [
    "input_text = cleaned\n",
    "output= []\n",
    "\n",
    "for i in input_text:\n",
    "    output.append(typos_corrector(\"맞춤법을 고쳐주세요: \" + i,\n",
    "            max_length=128,\n",
    "            num_beams=5,\n",
    "            early_stopping=True)[0]['generated_text'])\n",
    "\n",
    "output"
   ]
  },
  {
   "cell_type": "code",
   "execution_count": null,
   "id": "ce266fbc",
   "metadata": {},
   "outputs": [],
   "source": []
  },
  {
   "cell_type": "code",
   "execution_count": null,
   "id": "fe276dfc",
   "metadata": {},
   "outputs": [],
   "source": []
  },
  {
   "cell_type": "markdown",
   "id": "4a3ec7c3",
   "metadata": {},
   "source": [
    "#### 5) 원래 쓰고 싶었던 거 (지금 API 지원이 안됨 ㅠㅠ)"
   ]
  },
  {
   "cell_type": "code",
   "execution_count": 126,
   "id": "c61d59d3",
   "metadata": {},
   "outputs": [],
   "source": [
    "#!pip install py-hanspell"
   ]
  },
  {
   "cell_type": "code",
   "execution_count": 140,
   "id": "171798c3",
   "metadata": {},
   "outputs": [
    {
     "ename": "KeyError",
     "evalue": "'result'",
     "output_type": "error",
     "traceback": [
      "\u001b[1;31m---------------------------------------------------------------------------\u001b[0m",
      "\u001b[1;31mKeyError\u001b[0m                                  Traceback (most recent call last)",
      "Cell \u001b[1;32mIn[140], line 8\u001b[0m\n\u001b[0;32m      5\u001b[0m text \u001b[38;5;241m=\u001b[39m \u001b[38;5;124m'\u001b[39m\u001b[38;5;124m나는 며칠간 동생의 뒤치닥거리를 했다\u001b[39m\u001b[38;5;124m'\u001b[39m\n\u001b[0;32m      7\u001b[0m \u001b[38;5;66;03m# 맞춤법 검사 수행\u001b[39;00m\n\u001b[1;32m----> 8\u001b[0m result \u001b[38;5;241m=\u001b[39m spell_checker\u001b[38;5;241m.\u001b[39mcheck(text)\n\u001b[0;32m     10\u001b[0m \u001b[38;5;66;03m# 교정된 텍스트를 출력합니다\u001b[39;00m\n\u001b[0;32m     11\u001b[0m corrected_text \u001b[38;5;241m=\u001b[39m result\u001b[38;5;241m.\u001b[39mchecked\n",
      "File \u001b[1;32m~\\anaconda3\\Lib\\site-packages\\hanspell\\spell_checker.py:62\u001b[0m, in \u001b[0;36mcheck\u001b[1;34m(text)\u001b[0m\n\u001b[0;32m     59\u001b[0m passed_time \u001b[38;5;241m=\u001b[39m time\u001b[38;5;241m.\u001b[39mtime() \u001b[38;5;241m-\u001b[39m start_time\n\u001b[0;32m     61\u001b[0m data \u001b[38;5;241m=\u001b[39m json\u001b[38;5;241m.\u001b[39mloads(r\u001b[38;5;241m.\u001b[39mtext)\n\u001b[1;32m---> 62\u001b[0m html \u001b[38;5;241m=\u001b[39m data[\u001b[38;5;124m'\u001b[39m\u001b[38;5;124mmessage\u001b[39m\u001b[38;5;124m'\u001b[39m][\u001b[38;5;124m'\u001b[39m\u001b[38;5;124mresult\u001b[39m\u001b[38;5;124m'\u001b[39m][\u001b[38;5;124m'\u001b[39m\u001b[38;5;124mhtml\u001b[39m\u001b[38;5;124m'\u001b[39m]\n\u001b[0;32m     63\u001b[0m result \u001b[38;5;241m=\u001b[39m {\n\u001b[0;32m     64\u001b[0m     \u001b[38;5;124m'\u001b[39m\u001b[38;5;124mresult\u001b[39m\u001b[38;5;124m'\u001b[39m: \u001b[38;5;28;01mTrue\u001b[39;00m,\n\u001b[0;32m     65\u001b[0m     \u001b[38;5;124m'\u001b[39m\u001b[38;5;124moriginal\u001b[39m\u001b[38;5;124m'\u001b[39m: text,\n\u001b[1;32m   (...)\u001b[0m\n\u001b[0;32m     69\u001b[0m     \u001b[38;5;124m'\u001b[39m\u001b[38;5;124mwords\u001b[39m\u001b[38;5;124m'\u001b[39m: OrderedDict(),\n\u001b[0;32m     70\u001b[0m }\n\u001b[0;32m     72\u001b[0m \u001b[38;5;66;03m# 띄어쓰기로 구분하기 위해 태그는 일단 보기 쉽게 바꿔둠.\u001b[39;00m\n\u001b[0;32m     73\u001b[0m \u001b[38;5;66;03m# ElementTree의 iter()를 써서 더 좋게 할 수 있는 방법이 있지만\u001b[39;00m\n\u001b[0;32m     74\u001b[0m \u001b[38;5;66;03m# 이 짧은 코드에 굳이 그렇게 할 필요성이 없으므로 일단 문자열을 치환하는 방법으로 작성.\u001b[39;00m\n",
      "\u001b[1;31mKeyError\u001b[0m: 'result'"
     ]
    }
   ],
   "source": [
    "from hanspell import spell_checker\n",
    "\n",
    "text = '나는 며칠간 동생의 뒤치닥거리를 했다'\n",
    "result = spell_checker.check(text)\n",
    "corrected_text = result.checked\n",
    "\n",
    "print(\"Original text:\", text)\n",
    "print(\"Corrected text:\", corrected_text)"
   ]
  },
  {
   "cell_type": "code",
   "execution_count": 128,
   "id": "98750ea3",
   "metadata": {},
   "outputs": [
    {
     "name": "stderr",
     "output_type": "stream",
     "text": [
      "DEPRECATION: Loading egg at c:\\users\\82109\\anaconda3\\lib\\site-packages\\py_hanspell-1.1-py3.11.egg is deprecated. pip 23.3 will enforce this behaviour change. A possible replacement is to use pip for package installation..\n",
      "ERROR: Could not find a version that satisfies the requirement KoreanSpellChecker (from versions: none)\n",
      "ERROR: No matching distribution found for KoreanSpellChecker\n"
     ]
    }
   ],
   "source": [
    "!pip install KoreanSpellChecker"
   ]
  },
  {
   "cell_type": "code",
   "execution_count": 129,
   "id": "76bdbb97",
   "metadata": {},
   "outputs": [
    {
     "ename": "ModuleNotFoundError",
     "evalue": "No module named 'KoreanSpellChecker'",
     "output_type": "error",
     "traceback": [
      "\u001b[1;31m---------------------------------------------------------------------------\u001b[0m",
      "\u001b[1;31mModuleNotFoundError\u001b[0m                       Traceback (most recent call last)",
      "Cell \u001b[1;32mIn[129], line 1\u001b[0m\n\u001b[1;32m----> 1\u001b[0m \u001b[38;5;28;01mfrom\u001b[39;00m \u001b[38;5;21;01mKoreanSpellChecker\u001b[39;00m \u001b[38;5;28;01mimport\u001b[39;00m spell_checker\n\u001b[0;32m      3\u001b[0m text \u001b[38;5;241m=\u001b[39m \u001b[38;5;124m'\u001b[39m\u001b[38;5;124m나는 며칠간 동생의 뒤치닥거리를 했다\u001b[39m\u001b[38;5;124m'\u001b[39m\n\u001b[0;32m      5\u001b[0m \u001b[38;5;66;03m# 맞춤법검사\u001b[39;00m\n",
      "\u001b[1;31mModuleNotFoundError\u001b[0m: No module named 'KoreanSpellChecker'"
     ]
    }
   ],
   "source": [
    "from KoreanSpellChecker import spell_checker\n",
    "\n",
    "text = '나는 며칠간 동생의 뒤치닥거리를 했다'\n",
    "\n",
    "# 맞춤법검사\n",
    "corrected_text = spell_checker.correct(text)\n",
    "\n",
    "print(\"Original text:\", text)\n",
    "print(\"Corrected text:\", corrected_text)"
   ]
  },
  {
   "cell_type": "code",
   "execution_count": null,
   "id": "789dae25",
   "metadata": {},
   "outputs": [],
   "source": []
  }
 ],
 "metadata": {
  "kernelspec": {
   "display_name": "Python 3 (ipykernel)",
   "language": "python",
   "name": "python3"
  },
  "language_info": {
   "codemirror_mode": {
    "name": "ipython",
    "version": 3
   },
   "file_extension": ".py",
   "mimetype": "text/x-python",
   "name": "python",
   "nbconvert_exporter": "python",
   "pygments_lexer": "ipython3",
   "version": "3.11.4"
  }
 },
 "nbformat": 4,
 "nbformat_minor": 5
}

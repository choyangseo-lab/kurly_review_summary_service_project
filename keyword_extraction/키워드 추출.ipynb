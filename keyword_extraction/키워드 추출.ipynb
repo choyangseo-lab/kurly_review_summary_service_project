{
 "cells": [
  {
   "cell_type": "code",
   "execution_count": null,
   "id": "e52638a6",
   "metadata": {},
   "outputs": [],
   "source": [
    "!pip install transformers==4.43.2\n",
    "!pip install bitsandbytes==0.43.3\n",
    "!pip install accelerate==0.33.0"
   ]
  },
  {
   "cell_type": "code",
   "execution_count": null,
   "id": "288760af",
   "metadata": {},
   "outputs": [],
   "source": [
    "import torch\n",
    "import os\n",
    "from transformers import AutoTokenizer, AutoModelForCausalLM, BitsAndBytesConfig\n",
    "from huggingface_hub import login\n",
    "\n",
    "HF_TOKEN = os.getenv(\"TOKEN\")\n",
    "login(token=HF_TOKEN)"
   ]
  },
  {
   "cell_type": "code",
   "execution_count": null,
   "id": "fc68bcf4",
   "metadata": {},
   "outputs": [],
   "source": [
    "def load_model(base_model, torch_dtype=torch.bfloat16, use_quantization=False, quantization_config=None):\n",
    "    device = \"cuda\" if torch.cuda.is_available() else \"cpu\"\n",
    "    attn_implementation = \"eager\"\n",
    "\n",
    "    if use_quantization:\n",
    "        if quantization_config is None:\n",
    "            bnb_config = BitsAndBytesConfig(\n",
    "                load_in_4bit=True,\n",
    "                bnb_4bit_quant_type=\"nf4\",\n",
    "                bnb_4bit_compute_dtype=torch_dtype,\n",
    "                bnb_4bit_use_double_quant=True,\n",
    "            )\n",
    "    else:\n",
    "        bnb_config = None\n",
    "\n",
    "    model = AutoModelForCausalLM.from_pretrained(\n",
    "        base_model,\n",
    "        quantization_config=bnb_config,\n",
    "        torch_dtype=torch_dtype,\n",
    "        device_map=\"auto\",\n",
    "        attn_implementation=attn_implementation\n",
    "    )\n",
    "\n",
    "    if not use_quantization:\n",
    "        model.to(device)\n",
    "\n",
    "    return model"
   ]
  },
  {
   "cell_type": "code",
   "execution_count": null,
   "id": "39a5157c",
   "metadata": {},
   "outputs": [],
   "source": [
    "device = \"cuda\" if torch.cuda.is_available() else \"cpu\"\n",
    "torch_dtype = torch.float16\n",
    "model_name = \"meta-llama/Meta-Llama-3.1-8B-Instruct\""
   ]
  },
  {
   "cell_type": "code",
   "execution_count": null,
   "id": "3cdda40e",
   "metadata": {},
   "outputs": [],
   "source": [
    "device"
   ]
  },
  {
   "cell_type": "code",
   "execution_count": null,
   "id": "cb380c3f",
   "metadata": {},
   "outputs": [],
   "source": [
    "model = load_model(model_name, use_quantization=True)\n",
    "tokenizer = AutoTokenizer.from_pretrained(model_name)\n",
    "config = model.config\n",
    "\n",
    "print(f\"Memory Allocated: {round(torch.cuda.memory_allocated() / (1024 ** 2), 3)}GB\")\n",
    "print(f\"Memory Reserved: {round(torch.cuda.memory_reserved() / (1024 ** 2), 3)}GB\")"
   ]
  },
  {
   "cell_type": "code",
   "execution_count": null,
   "id": "6ce0ac08",
   "metadata": {},
   "outputs": [],
   "source": [
    "# from google.colab import drive\n",
    "# drive.mount('/content/drive')"
   ]
  },
  {
   "cell_type": "markdown",
   "id": "9173ba01",
   "metadata": {},
   "source": [
    "### 키워드 추출\n",
    ": 20년도 이후 & 4단어 이상의 리뷰들을 도움돼요 개수가 많은 순으로 정렬한 후 상위 100개의 리뷰 데이터에 대해 적용"
   ]
  },
  {
   "cell_type": "code",
   "execution_count": null,
   "id": "5c8ca8e0",
   "metadata": {},
   "outputs": [],
   "source": [
    "import pandas as pd\n",
    "df = pd.read_csv(\"kurly/20년도이후_4단어이상_help상위100.csv\")"
   ]
  },
  {
   "cell_type": "code",
   "execution_count": null,
   "id": "f6c4b503",
   "metadata": {},
   "outputs": [],
   "source": [
    "#키워드 추출 프롬프트\n",
    "system_prompt = '''\n",
    "주어진 구문에서 제품의 주요 특성, 속성 또는 기능을 나타내는 명사 또는 구체적 표현을 키워드로 추출하세요. 감정적인 표현보다는 제품의 구체적인 속성에 중점을 두어야 합니다.\n",
    "구문에 포함된 단어들을 분석하여 제품의 중요한 특성이나 기능을 정확히 표현하는 키워드를 도출합니다. 각 리뷰에서 중요한 제품 관련 키워드를 쉼표로 구분하여 추출하세요. \n",
    "\n",
    "- 키워드는 제품과 관련된 구체적인 명사 또는 기능을 나타내는 단어나 구입니다.\n",
    "- **키워드가 동사나 형용사로 되어 있을 경우** 명사나 구 형태로 변환하여 추출하세요. 예를 들어, '간이 생각보다 쎄서'는 '간이 쎔'으로 변환하세요.\n",
    "- 감정적인 표현(예: '좋아요', '실망스러워요')은 포함하지 마세요.\n",
    "- 키워드는 쉼표로 구분된 목록으로 출력되어야 합니다.\n",
    "\n",
    "예시:\n",
    "- 구문: '정말 고기가 듬뿍 들었고'\n",
    "  - 키워드: 고기, 양\n",
    "- 구문: '배송이 너무 느려요'\n",
    "  - 키워드: 배송\n",
    "- 구문: '양도 많고 간단해서 좋네요'\n",
    "  - 키워드: 양, 간편함\n",
    "- 구문: '간이 생각보다 쎄서'\n",
    "  - 키워드: 간이 쎔\n",
    "- 구문: '포장이 꼼꼼하게 왔어요'\n",
    "  - 키워드: 포장\n",
    "\n",
    "모든 리뷰에서 이런 방식으로 키워드를 추출하세요.\n",
    "'''"
   ]
  },
  {
   "cell_type": "code",
   "execution_count": null,
   "id": "91125b7a",
   "metadata": {},
   "outputs": [],
   "source": [
    "#키워드 추출 함수\n",
    "def extract_keywords_from_reviews(reviews):\n",
    "    extracted_keywords = []\n",
    "\n",
    "    for review in reviews:\n",
    "        query = f'{review}\\n키워드:'\n",
    "        inputs = f'<|begin_of_text|><|start_header_id|>system<|end_header_id|>\\n{system_prompt}<|eot_id|><|start_header_id|>user<|end_header_id|>\\n{query}<|eot_id|><|start_header_id|>assistant<|end_header_id|>'\n",
    "\n",
    "        input_ids = tokenizer(inputs, return_tensors=\"pt\").input_ids.to(device)\n",
    "        outputs = model.generate(input_ids, max_new_tokens=500, do_sample=False)\n",
    "\n",
    "        decoded_output = tokenizer.decode(outputs[0], skip_special_tokens=True)\n",
    "\n",
    "        if '키워드' in decoded_output:\n",
    "            keyword_part = decoded_output.split('키워드:')[-1].strip()\n",
    "            keywords = keyword_part.split('\\n')[0]  \n",
    "        else:\n",
    "            keywords = \"No keywords extracted\"\n",
    "\n",
    "        extracted_keywords.append(keywords)\n",
    "\n",
    "    return extracted_keywords"
   ]
  },
  {
   "cell_type": "code",
   "execution_count": null,
   "id": "65ea4e20",
   "metadata": {},
   "outputs": [],
   "source": [
    "#추출한 키워드들을 'keywords'열에 추가\n",
    "df['keywords'] = extract_keywords_from_reviews(df['cleaned_Kiwi_review'])"
   ]
  },
  {
   "cell_type": "code",
   "execution_count": null,
   "id": "beddb839",
   "metadata": {},
   "outputs": [],
   "source": [
    "#키워드가 포함된 데이터 생성\n",
    "df.to_csv(\"kurly/help상위100_키워드포함.csv\",index=False, encoding='utf-8-sig')"
   ]
  },
  {
   "cell_type": "code",
   "execution_count": null,
   "id": "8a8d9dd0",
   "metadata": {},
   "outputs": [],
   "source": [
    "#키워드들 중 중복되게 추출된 경우가 존재해서 중복을 없애는 과정\n",
    "keywords_list = df['keywords'].tolist()\n",
    "\n",
    "def remove_duplicates_from_list(keywords_list):\n",
    "    all_unique_keywords = set()\n",
    "\n",
    "    for keywords_str in keywords_list:\n",
    "        keywords = keywords_str.split(', ')\n",
    "\n",
    "        all_unique_keywords.update(keywords)\n",
    "\n",
    "    unique_keywords_str = ', '.join(sorted(all_unique_keywords))\n",
    "\n",
    "    return unique_keywords_str\n",
    "\n",
    "\n",
    "unique_keywords = remove_duplicates_from_list(keywords_list)"
   ]
  },
  {
   "cell_type": "code",
   "execution_count": null,
   "id": "41a3da2d",
   "metadata": {},
   "outputs": [],
   "source": [
    "#추출된 키워드들을 리스트에 저장\n",
    "unique_keywords_list = []\n",
    "\n",
    "unique_keywords_list.extend([keyword.strip() for keyword in unique_keywords.split(',') if keyword.strip()])"
   ]
  },
  {
   "cell_type": "markdown",
   "id": "860dd102",
   "metadata": {},
   "source": [
    "#### 추출된 키워드\n",
    ": 총 493개의 키워드\n",
    "\n",
    "가격, 가성비, 가위, 가자미, 가족, 간, 간단 식사, 간단함, 간소한 조리법, \n",
    "간이, 간이 쎔, 간장, 간장, 간편, 간편함, 갈 빗살, 갈비, 갈비뼈, 갈비탕, \n",
    "갈빗대, 감자, 감자 칼국수면, 감자탕, 감칠맛, 감투, 강릉, 강비탕, 강추, 건강, \n",
    "건더기, 건데기, 겨울, 경상도 식, 경제적, 경험, 계란, 고객, 고급, 고기, 고기 분리, \n",
    "고기 양, 고명, 고사리, 고소, 고추, 고추가루, 고추기름, 고추장, 고춧가루, 곰탕, \n",
    "곱창, 구성, 국, 국간장, 국구릇, 국그릇, 국물, 국물 베이스, 국물 소스, 국물 양, \n",
    "국밥, 국산, 국수, 국수 베이스, 귀찮음, 기대 이상, 기름, 기름지기, 기분, 김, \n",
    "... ,\n",
    "토종닭 속, 토종닭 육수, 토종닭 전문점, 토종닭 진한 국물, 토핑, 통마늘, 통뼈 감자탕, \n",
    "팁, 파, 팩, 팽이버섯, 펜션, 편리, 편리성, 편리함, 편안한 국, 편의성, 편함, 포만감,\n",
    "포장, 포장 상태, 포장지, 퐉 풀, 표고버섯, 푸짐, 푸짐함, 푹 끓여지다, 풀무원, \n",
    "풀무원 만두, 품목, 품질, 프리미엄, 플라스틱, 피로, 핏물, 한 끼, 한 끼 식사용, \n",
    "한약재, 한약향, 한우, 할라피뇨, 할인, 해동, 해산물, 해장, 햄, 행복, 향, 현미햇반, \n",
    "호박, 혼밥, 혼자 먹기, 홍고추, 홍보, 후추, 후춧가루"
   ]
  },
  {
   "cell_type": "markdown",
   "id": "04cef6ac",
   "metadata": {},
   "source": [
    "### 카테고리 추출"
   ]
  },
  {
   "cell_type": "markdown",
   "id": "ad3461f6",
   "metadata": {},
   "source": [
    "#### 1. 맛/풍미\n",
    "제품의 맛, 향, 풍미와 관련된 키워드들.\n",
    "\n",
    "간, 간이, 간이 쎔, 감칠맛, 깊은 맛, 깊이, 고소, 매실 액, 매운맛이 적음, 매움, 매콤, 맛, 맛이 좋음, 맛있, 맛있게, 맛있는, 맛있다, 맛있어요, 맵기, 소금, 소스, 소스지, 진한, 진한 맛, 진함, 쫄깃, 쫄깃쫄깃, 쫄깃쫄깃한 식감, 쫄깃한 식감, 쫄깃함, 칼칼, 칼칼한 맛, 칼칼함, 텡글, 텡글텡글, 향, 한약향, 홍고추, 후추, 후춧가루\n",
    "\n",
    "#### 2. 재료/구성\n",
    "제품에 포함된 재료나 구성 요소와 관련된 키워드들.\n",
    "\n",
    "갈 빗살, 갈비, 갈비뼈, 갈비탕, 갈빗대, 감자, 감자 칼국수면, 감자탕, 고기, 고기 분리, 고기 양, 고명, 고추, 고추가루, 고추기름, 곰탕, 곱창, 구성, 국, 국간장, 국수, 국물, 국물 베이스, 국물 소스, 국물 양, 국밥, 국산, 김, 김치, 김치찌개, 김칫국물, 김장김치, 나물, 냉동, 내장, 대파, 돼지 등뼈 척수, 돼지 머릿고기, 돼지고기, 된장, 된장찌개, 두부, 들기름, 들깨, 들깨 가루, 떡, 떡국, 떡국 떡, 떡만둣국, 라면 사리, 마늘, 만두, 만두국, 맛집, 메밀국수, 면, 면 사리, 무, 무나 콩나물, 문어, 미역, 미역국, 미원, 배추, 버섯, 부대찌개, 부추, 불고기, 비빔면, 새우, 설렁탕, 소고기, 순대, 순두부, 스팸, 쌀, 양, 양배추, 양지, 어묵, 우거지, 육개장, 육수, 육즙, 잡내, 전골, 전복, 조랭이 떡, 조미 가루, 조미료, 죽, 찌개, 찹쌀, 청국장, 청양고추, 토란, 해산물, 해장, 향, 호박\n",
    "\n",
    "#### 3. 조리/보관 방법\n",
    "제품의 조리법, 보관 상태 및 관련 방법에 대한 키워드들.\n",
    "\n",
    "간단 식사, 간단함, 간소한 조리법, 간편, 간편함, 끓이기, 냉동 상태, 냉동 육개장, 냉동 제품, 냉동식품, 냉동실, 냉동실 보관, 데우기, 레시피, 리조트, 밀 키트, 밀가루, 밀키트, 밀키트류, 보관, 보관 상태, 조리, 조리법, 조절, 즉석, 해동\n",
    "\n",
    "#### 4. 포장/배송\n",
    "제품의 포장 상태, 배송, 보관과 관련된 키워드들.\n",
    "\n",
    "배송, 포장, 포장 상태, 포장지, 봉투, 냉장, 냉장고, 냉장실, 아이스팩, 포장지\n",
    "\n",
    "#### 5. 양/가격\n",
    "제품의 양, 가성비 및 경제성과 관련된 키워드들.\n",
    "\n",
    "가격, 가성비, 경제적, 대량, 양 조절, 양이, 양이 적당, 양이 적은 분, 양이 충분한 분, 일 인분 양, 중량, 푸짐, 푸짐함"
   ]
  }
 ],
 "metadata": {
  "kernelspec": {
   "display_name": "Python 3 (ipykernel)",
   "language": "python",
   "name": "python3"
  },
  "language_info": {
   "codemirror_mode": {
    "name": "ipython",
    "version": 3
   },
   "file_extension": ".py",
   "mimetype": "text/x-python",
   "name": "python",
   "nbconvert_exporter": "python",
   "pygments_lexer": "ipython3",
   "version": "3.9.12"
  }
 },
 "nbformat": 4,
 "nbformat_minor": 5
}
